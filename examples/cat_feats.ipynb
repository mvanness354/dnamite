{
 "cells": [
  {
   "cell_type": "code",
   "execution_count": 1,
   "metadata": {},
   "outputs": [],
   "source": [
    "%load_ext autoreload\n",
    "%autoreload 2\n",
    "\n",
    "import numpy as np \n",
    "import pandas as pd \n",
    "import matplotlib.pyplot as plt\n",
    "import seaborn as sns\n",
    "sns.set_theme()\n",
    "import torch\n",
    "from sklearn.model_selection import train_test_split\n",
    "from dnamite.models import DNAMiteSurvival\n",
    "device = torch.device('cuda:4' if torch.cuda.is_available() else 'cpu')"
   ]
  },
  {
   "cell_type": "code",
   "execution_count": 2,
   "metadata": {},
   "outputs": [],
   "source": [
    "data = pd.read_csv(\"/home/mvanness/dnamite/private_repo/discrete_nam/data/med_paper_pcphf_data_all_term.csv\")\n",
    "X = data.drop([\n",
    "    \"person_id\",\n",
    "    \"censor\",\n",
    "    \"survival_time\",\n",
    "    'birth_DATETIME', \n",
    "    'death_DATE', \n",
    "    'index_date', \n",
    "    'last_encounter_date',\n",
    "    'hf_date', \n",
    "    'survival_date'\n",
    "], axis=1)\n",
    "y = np.array(list(zip(~data[\"censor\"], data[\"survival_time\"])), dtype=[('event', 'bool'), ('time', 'float32')])\n",
    "\n",
    "cat_cols = [\n",
    "    'gender', \n",
    "    'race',\n",
    "    'smoking'\n",
    "]\n",
    "for col in cat_cols:\n",
    "    X[col] = X[col].astype(\"category\")\n",
    "    \n",
    "X_train, X_test, y_train, y_test = train_test_split(X, y, test_size=0.2, random_state=10)    \n",
    "    "
   ]
  },
  {
   "cell_type": "code",
   "execution_count": 3,
   "metadata": {},
   "outputs": [
    {
     "name": "stdout",
     "output_type": "stream",
     "text": [
      "SPlIT 0\n",
      "TRAINING PARTIALED FEATS\n"
     ]
    },
    {
     "name": "stderr",
     "output_type": "stream",
     "text": [
      "                                                  \r"
     ]
    },
    {
     "name": "stdout",
     "output_type": "stream",
     "text": [
      "Early stopping at 21 epochs: Test loss has not improved for 5 consecutive epochs.\n",
      "TRAINING MAINS\n"
     ]
    },
    {
     "name": "stderr",
     "output_type": "stream",
     "text": [
      "                                                  \r"
     ]
    },
    {
     "name": "stdout",
     "output_type": "stream",
     "text": [
      "Early stopping at 6 epochs: Test loss has not improved for 5 consecutive epochs.\n",
      "Didn't find selected pair indices. Selecting all pairs.\n",
      "TRAINING PAIRS\n"
     ]
    },
    {
     "name": "stderr",
     "output_type": "stream",
     "text": [
      "                                                 \r"
     ]
    },
    {
     "name": "stdout",
     "output_type": "stream",
     "text": [
      "Early stopping at 12 epochs: Test loss has not improved for 5 consecutive epochs.\n",
      "SPlIT 1\n",
      "TRAINING PARTIALED FEATS\n"
     ]
    },
    {
     "name": "stderr",
     "output_type": "stream",
     "text": [
      "                                                  \r"
     ]
    },
    {
     "name": "stdout",
     "output_type": "stream",
     "text": [
      "Early stopping at 15 epochs: Test loss has not improved for 5 consecutive epochs.\n",
      "TRAINING MAINS\n"
     ]
    },
    {
     "name": "stderr",
     "output_type": "stream",
     "text": [
      "                                                  \r"
     ]
    },
    {
     "name": "stdout",
     "output_type": "stream",
     "text": [
      "Early stopping at 27 epochs: Test loss has not improved for 5 consecutive epochs.\n",
      "TRAINING PAIRS\n"
     ]
    },
    {
     "name": "stderr",
     "output_type": "stream",
     "text": [
      "                                                 \r"
     ]
    },
    {
     "name": "stdout",
     "output_type": "stream",
     "text": [
      "Early stopping at 13 epochs: Test loss has not improved for 5 consecutive epochs.\n",
      "SPlIT 2\n",
      "TRAINING PARTIALED FEATS\n"
     ]
    },
    {
     "name": "stderr",
     "output_type": "stream",
     "text": [
      "                                                  \r"
     ]
    },
    {
     "name": "stdout",
     "output_type": "stream",
     "text": [
      "Early stopping at 15 epochs: Test loss has not improved for 5 consecutive epochs.\n",
      "TRAINING MAINS\n"
     ]
    },
    {
     "name": "stderr",
     "output_type": "stream",
     "text": [
      "                                                  \r"
     ]
    },
    {
     "name": "stdout",
     "output_type": "stream",
     "text": [
      "Early stopping at 6 epochs: Test loss has not improved for 5 consecutive epochs.\n",
      "TRAINING PAIRS\n"
     ]
    },
    {
     "name": "stderr",
     "output_type": "stream",
     "text": [
      "                                                 \r"
     ]
    },
    {
     "name": "stdout",
     "output_type": "stream",
     "text": [
      "Early stopping at 15 epochs: Test loss has not improved for 5 consecutive epochs.\n",
      "SPlIT 3\n",
      "TRAINING PARTIALED FEATS\n"
     ]
    },
    {
     "name": "stderr",
     "output_type": "stream",
     "text": [
      "                                                  \r"
     ]
    },
    {
     "name": "stdout",
     "output_type": "stream",
     "text": [
      "Early stopping at 16 epochs: Test loss has not improved for 5 consecutive epochs.\n",
      "TRAINING MAINS\n"
     ]
    },
    {
     "name": "stderr",
     "output_type": "stream",
     "text": [
      "                                                  \r"
     ]
    },
    {
     "name": "stdout",
     "output_type": "stream",
     "text": [
      "Early stopping at 14 epochs: Test loss has not improved for 5 consecutive epochs.\n",
      "TRAINING PAIRS\n"
     ]
    },
    {
     "name": "stderr",
     "output_type": "stream",
     "text": [
      "                                                 \r"
     ]
    },
    {
     "name": "stdout",
     "output_type": "stream",
     "text": [
      "Early stopping at 12 epochs: Test loss has not improved for 5 consecutive epochs.\n",
      "SPlIT 4\n",
      "TRAINING PARTIALED FEATS\n"
     ]
    },
    {
     "name": "stderr",
     "output_type": "stream",
     "text": [
      "                                                  \r"
     ]
    },
    {
     "name": "stdout",
     "output_type": "stream",
     "text": [
      "Early stopping at 25 epochs: Test loss has not improved for 5 consecutive epochs.\n",
      "TRAINING MAINS\n"
     ]
    },
    {
     "name": "stderr",
     "output_type": "stream",
     "text": [
      "                                                  \r"
     ]
    },
    {
     "name": "stdout",
     "output_type": "stream",
     "text": [
      "Early stopping at 15 epochs: Test loss has not improved for 5 consecutive epochs.\n",
      "TRAINING PAIRS\n"
     ]
    },
    {
     "name": "stderr",
     "output_type": "stream",
     "text": [
      "                                                 \r"
     ]
    },
    {
     "name": "stdout",
     "output_type": "stream",
     "text": [
      "Early stopping at 14 epochs: Test loss has not improved for 5 consecutive epochs.\n"
     ]
    },
    {
     "ename": "RuntimeError",
     "evalue": "The size of tensor a (28) must match the size of tensor b (9) at non-singleton dimension 0",
     "output_type": "error",
     "traceback": [
      "\u001b[0;31m---------------------------------------------------------------------------\u001b[0m",
      "\u001b[0;31mRuntimeError\u001b[0m                              Traceback (most recent call last)",
      "Cell \u001b[0;32mIn[3], line 22\u001b[0m\n\u001b[1;32m      1\u001b[0m dnamite_cat_cols \u001b[38;5;241m=\u001b[39m [c \u001b[38;5;28;01mfor\u001b[39;00m c \u001b[38;5;129;01min\u001b[39;00m X_train\u001b[38;5;241m.\u001b[39mcolumns \u001b[38;5;28;01mif\u001b[39;00m \n\u001b[1;32m      2\u001b[0m     c \u001b[38;5;129;01min\u001b[39;00m [\u001b[38;5;124m\"\u001b[39m\u001b[38;5;124mgender\u001b[39m\u001b[38;5;124m\"\u001b[39m, \u001b[38;5;124m\"\u001b[39m\u001b[38;5;124mrace\u001b[39m\u001b[38;5;124m\"\u001b[39m, \u001b[38;5;124m\"\u001b[39m\u001b[38;5;124msmoking\u001b[39m\u001b[38;5;124m\"\u001b[39m]\n\u001b[1;32m      3\u001b[0m     \u001b[38;5;129;01mor\u001b[39;00m \u001b[38;5;124m\"\u001b[39m\u001b[38;5;124mcondition\u001b[39m\u001b[38;5;124m\"\u001b[39m \u001b[38;5;129;01min\u001b[39;00m c\n\u001b[1;32m      4\u001b[0m     \u001b[38;5;129;01mor\u001b[39;00m \u001b[38;5;124m\"\u001b[39m\u001b[38;5;124mcat_meas\u001b[39m\u001b[38;5;124m\"\u001b[39m \u001b[38;5;129;01min\u001b[39;00m c\n\u001b[1;32m      5\u001b[0m     \u001b[38;5;129;01mor\u001b[39;00m \u001b[38;5;124m\"\u001b[39m\u001b[38;5;124mtreatment\u001b[39m\u001b[38;5;124m\"\u001b[39m \u001b[38;5;129;01min\u001b[39;00m c\n\u001b[1;32m      6\u001b[0m ]\n\u001b[1;32m      8\u001b[0m model \u001b[38;5;241m=\u001b[39m DNAMiteSurvival(\n\u001b[1;32m      9\u001b[0m     n_features\u001b[38;5;241m=\u001b[39mX_train\u001b[38;5;241m.\u001b[39mshape[\u001b[38;5;241m1\u001b[39m],\n\u001b[1;32m     10\u001b[0m     n_embed\u001b[38;5;241m=\u001b[39m\u001b[38;5;241m32\u001b[39m,\n\u001b[0;32m   (...)\u001b[0m\n\u001b[1;32m     20\u001b[0m     batch_size\u001b[38;5;241m=\u001b[39m\u001b[38;5;241m512\u001b[39m,\n\u001b[1;32m     21\u001b[0m )\n\u001b[0;32m---> 22\u001b[0m \u001b[43mmodel\u001b[49m\u001b[38;5;241;43m.\u001b[39;49m\u001b[43mfit\u001b[49m\u001b[43m(\u001b[49m\u001b[43mX_train\u001b[49m\u001b[43m,\u001b[49m\u001b[43m \u001b[49m\u001b[43my_train\u001b[49m\u001b[43m,\u001b[49m\u001b[43m \u001b[49m\u001b[43mpartialed_feats\u001b[49m\u001b[38;5;241;43m=\u001b[39;49m\u001b[43m[\u001b[49m\u001b[38;5;124;43m\"\u001b[39;49m\u001b[38;5;124;43mage\u001b[39;49m\u001b[38;5;124;43m\"\u001b[39;49m\u001b[43m]\u001b[49m\u001b[43m)\u001b[49m\n",
      "File \u001b[0;32m~/dnamite/public_repo/dnamite/dnamite/models/dnamite.py:2228\u001b[0m, in \u001b[0;36mDNAMiteSurvival.fit\u001b[0;34m(self, X, y, partialed_feats)\u001b[0m\n\u001b[1;32m   2224\u001b[0m     \u001b[38;5;28mself\u001b[39m\u001b[38;5;241m.\u001b[39mn_output \u001b[38;5;241m=\u001b[39m \u001b[38;5;28mlen\u001b[39m(\u001b[38;5;28mself\u001b[39m\u001b[38;5;241m.\u001b[39meval_times)\n\u001b[1;32m   2226\u001b[0m \u001b[38;5;28mself\u001b[39m\u001b[38;5;241m.\u001b[39mpcw_eval_times \u001b[38;5;241m=\u001b[39m torch\u001b[38;5;241m.\u001b[39mFloatTensor(\u001b[38;5;28mself\u001b[39m\u001b[38;5;241m.\u001b[39mcde\u001b[38;5;241m.\u001b[39mpredict_proba(\u001b[38;5;28mself\u001b[39m\u001b[38;5;241m.\u001b[39meval_times\u001b[38;5;241m.\u001b[39mcpu()\u001b[38;5;241m.\u001b[39mnumpy()))\u001b[38;5;241m.\u001b[39mto(\u001b[38;5;28mself\u001b[39m\u001b[38;5;241m.\u001b[39mdevice) \u001b[38;5;241m+\u001b[39m \u001b[38;5;241m1e-5\u001b[39m\n\u001b[0;32m-> 2228\u001b[0m \u001b[38;5;28;43msuper\u001b[39;49m\u001b[43m(\u001b[49m\u001b[43m)\u001b[49m\u001b[38;5;241;43m.\u001b[39;49m\u001b[43mfit\u001b[49m\u001b[43m(\u001b[49m\u001b[43mX\u001b[49m\u001b[43m,\u001b[49m\u001b[43m \u001b[49m\u001b[43my\u001b[49m\u001b[43m,\u001b[49m\u001b[43m \u001b[49m\u001b[43mpartialed_feats\u001b[49m\u001b[38;5;241;43m=\u001b[39;49m\u001b[43mpartialed_feats\u001b[49m\u001b[43m)\u001b[49m\n\u001b[1;32m   2230\u001b[0m \u001b[38;5;28;01mreturn\u001b[39;00m\n",
      "File \u001b[0;32m~/dnamite/public_repo/dnamite/dnamite/models/dnamite.py:1157\u001b[0m, in \u001b[0;36mBaseDNAMiteModel.fit\u001b[0;34m(self, X, y, partialed_feats)\u001b[0m\n\u001b[1;32m   1150\u001b[0m         model\u001b[38;5;241m.\u001b[39mpair_bin_counts \u001b[38;5;241m=\u001b[39m [\n\u001b[1;32m   1151\u001b[0m             get_pair_bin_counts(X_train\u001b[38;5;241m.\u001b[39miloc[:, col1], X_train\u001b[38;5;241m.\u001b[39miloc[:, col2]) \n\u001b[1;32m   1152\u001b[0m             \u001b[38;5;28;01mfor\u001b[39;00m col1, col2 \u001b[38;5;129;01min\u001b[39;00m pairs_list\n\u001b[1;32m   1153\u001b[0m         ]\n\u001b[1;32m   1155\u001b[0m     \u001b[38;5;28mself\u001b[39m\u001b[38;5;241m.\u001b[39mmodels\u001b[38;5;241m.\u001b[39mappend(model)\n\u001b[0;32m-> 1157\u001b[0m \u001b[38;5;28;43mself\u001b[39;49m\u001b[38;5;241;43m.\u001b[39;49m\u001b[43mcompute_bin_scores\u001b[49m\u001b[43m(\u001b[49m\u001b[43m)\u001b[49m\n\u001b[1;32m   1159\u001b[0m \u001b[38;5;28;01mreturn\u001b[39;00m\n",
      "File \u001b[0;32m~/dnamite/public_repo/dnamite/dnamite/models/dnamite.py:899\u001b[0m, in \u001b[0;36mBaseDNAMiteModel.compute_bin_scores\u001b[0;34m(self, ignore_missing_bin_in_intercept)\u001b[0m\n\u001b[1;32m    896\u001b[0m \u001b[38;5;28;01mif\u001b[39;00m model\u001b[38;5;241m.\u001b[39mfit_pairs:\n\u001b[1;32m    898\u001b[0m     pairs_list \u001b[38;5;241m=\u001b[39m model\u001b[38;5;241m.\u001b[39mpairs_list\u001b[38;5;241m.\u001b[39mcpu()\u001b[38;5;241m.\u001b[39mnumpy()\n\u001b[0;32m--> 899\u001b[0m     \u001b[43mmodel\u001b[49m\u001b[38;5;241;43m.\u001b[39;49m\u001b[43mcompute_pairs_intercept\u001b[49m\u001b[43m(\u001b[49m\u001b[43mmodel\u001b[49m\u001b[38;5;241;43m.\u001b[39;49m\u001b[43mpair_bin_counts\u001b[49m\u001b[43m)\u001b[49m\n\u001b[1;32m    901\u001b[0m     model\u001b[38;5;241m.\u001b[39mpair_bin_scores \u001b[38;5;241m=\u001b[39m []\n\u001b[1;32m    902\u001b[0m     \u001b[38;5;28;01mfor\u001b[39;00m i \u001b[38;5;129;01min\u001b[39;00m \u001b[38;5;28mrange\u001b[39m(\u001b[38;5;28mlen\u001b[39m(pairs_list)):\n",
      "File \u001b[0;32m~/dnamite/public_repo/dnamite/dnamite/models/dnamite.py:725\u001b[0m, in \u001b[0;36mBaseSingleSplitDNAMiteModel.compute_pairs_intercept\u001b[0;34m(self, pair_bin_counts)\u001b[0m\n\u001b[1;32m    722\u001b[0m \u001b[38;5;28mself\u001b[39m\u001b[38;5;241m.\u001b[39mpair_offsets \u001b[38;5;241m=\u001b[39m torch\u001b[38;5;241m.\u001b[39mzeros(\u001b[38;5;28mself\u001b[39m\u001b[38;5;241m.\u001b[39mn_pairs, \u001b[38;5;28mself\u001b[39m\u001b[38;5;241m.\u001b[39mn_output)\u001b[38;5;241m.\u001b[39mto(\u001b[38;5;28mself\u001b[39m\u001b[38;5;241m.\u001b[39mdevice)\n\u001b[1;32m    724\u001b[0m \u001b[38;5;28;01mfor\u001b[39;00m pair_idx \u001b[38;5;129;01min\u001b[39;00m \u001b[38;5;28mrange\u001b[39m(\u001b[38;5;28mself\u001b[39m\u001b[38;5;241m.\u001b[39mn_pairs):\n\u001b[0;32m--> 725\u001b[0m     bin_preds \u001b[38;5;241m=\u001b[39m \u001b[38;5;28;43mself\u001b[39;49m\u001b[38;5;241;43m.\u001b[39;49m\u001b[43mget_pair_bin_scores\u001b[49m\u001b[43m(\u001b[49m\u001b[43mpair_idx\u001b[49m\u001b[43m,\u001b[49m\u001b[43m \u001b[49m\u001b[43mcenter\u001b[49m\u001b[38;5;241;43m=\u001b[39;49m\u001b[38;5;28;43;01mFalse\u001b[39;49;00m\u001b[43m)\u001b[49m\n\u001b[1;32m    726\u001b[0m     bin_counts \u001b[38;5;241m=\u001b[39m torch\u001b[38;5;241m.\u001b[39mtensor(pair_bin_counts[pair_idx])\u001b[38;5;241m.\u001b[39mto(\u001b[38;5;28mself\u001b[39m\u001b[38;5;241m.\u001b[39mdevice)\u001b[38;5;241m.\u001b[39munsqueeze(\u001b[38;5;241m-\u001b[39m\u001b[38;5;241m1\u001b[39m)\n\u001b[1;32m    727\u001b[0m     pair_pred \u001b[38;5;241m=\u001b[39m torch\u001b[38;5;241m.\u001b[39msum(\n\u001b[1;32m    728\u001b[0m         bin_preds \u001b[38;5;241m*\u001b[39m bin_counts, dim\u001b[38;5;241m=\u001b[39m\u001b[38;5;241m0\u001b[39m\n\u001b[1;32m    729\u001b[0m     ) \u001b[38;5;241m/\u001b[39m torch\u001b[38;5;241m.\u001b[39msum(bin_counts)\n",
      "File \u001b[0;32m~/dnamite/public_repo/dnamite/dnamite/models/dnamite.py:635\u001b[0m, in \u001b[0;36mBaseSingleSplitDNAMiteModel.get_pair_bin_scores\u001b[0;34m(self, pair_index, center)\u001b[0m\n\u001b[1;32m    630\u001b[0m     \u001b[38;5;66;03m# pairs has shape (batch_size, 2 * pair_kernel_size + 1, 2, n_embed)\u001b[39;00m\n\u001b[1;32m    631\u001b[0m     pairs \u001b[38;5;241m=\u001b[39m \u001b[38;5;28mself\u001b[39m\u001b[38;5;241m.\u001b[39mpair_embedding(\n\u001b[1;32m    632\u001b[0m         torch\u001b[38;5;241m.\u001b[39mclamp(pairs\u001b[38;5;241m.\u001b[39mlong(), \u001b[38;5;241m0\u001b[39m, \u001b[38;5;28mself\u001b[39m\u001b[38;5;241m.\u001b[39mtotal_feature_size\u001b[38;5;241m-\u001b[39m\u001b[38;5;241m1\u001b[39m)\n\u001b[1;32m    633\u001b[0m     )    \n\u001b[1;32m    634\u001b[0m     pairs \u001b[38;5;241m=\u001b[39m torch\u001b[38;5;241m.\u001b[39msum(\n\u001b[0;32m--> 635\u001b[0m         \u001b[43mpairs\u001b[49m\u001b[43m \u001b[49m\u001b[38;5;241;43m*\u001b[39;49m\u001b[43m \u001b[49m\u001b[43mweights\u001b[49m\u001b[38;5;241;43m.\u001b[39;49m\u001b[43munsqueeze\u001b[49m\u001b[43m(\u001b[49m\u001b[38;5;241;43m-\u001b[39;49m\u001b[38;5;241;43m1\u001b[39;49m\u001b[43m)\u001b[49m\u001b[38;5;241;43m.\u001b[39;49m\u001b[43munsqueeze\u001b[49m\u001b[43m(\u001b[49m\u001b[38;5;241;43m-\u001b[39;49m\u001b[38;5;241;43m1\u001b[39;49m\u001b[43m)\u001b[49m, \n\u001b[1;32m    636\u001b[0m         dim\u001b[38;5;241m=\u001b[39m\u001b[38;5;241m1\u001b[39m\n\u001b[1;32m    637\u001b[0m     )\n\u001b[1;32m    638\u001b[0m \u001b[38;5;28;01melse\u001b[39;00m:\n\u001b[1;32m    639\u001b[0m \n\u001b[1;32m    640\u001b[0m     \u001b[38;5;66;03m# pairs has shape (batch_size, 2 * pair_kernel_size + 1, 2 * pair_kernel_size + 1, 2, n_embed)\u001b[39;00m\n\u001b[1;32m    641\u001b[0m     pairs \u001b[38;5;241m=\u001b[39m \u001b[38;5;28mself\u001b[39m\u001b[38;5;241m.\u001b[39mpair_embedding(\n\u001b[1;32m    642\u001b[0m         torch\u001b[38;5;241m.\u001b[39mclamp(pairs\u001b[38;5;241m.\u001b[39mlong(), \u001b[38;5;241m0\u001b[39m, \u001b[38;5;28mself\u001b[39m\u001b[38;5;241m.\u001b[39mtotal_feature_size\u001b[38;5;241m-\u001b[39m\u001b[38;5;241m1\u001b[39m)\n\u001b[1;32m    643\u001b[0m     )    \n",
      "\u001b[0;31mRuntimeError\u001b[0m: The size of tensor a (28) must match the size of tensor b (9) at non-singleton dimension 0"
     ]
    }
   ],
   "source": [
    "dnamite_cat_cols = [c for c in X_train.columns if \n",
    "    c in [\"gender\", \"race\", \"smoking\"]\n",
    "    or \"condition\" in c\n",
    "    or \"cat_meas\" in c\n",
    "    or \"treatment\" in c\n",
    "]\n",
    "\n",
    "model = DNAMiteSurvival(\n",
    "    n_features=X_train.shape[1],\n",
    "    n_embed=32,\n",
    "    n_hidden=32,\n",
    "    n_output=100,\n",
    "    device=device,\n",
    "    learning_rate=5e-4,\n",
    "    categorical_feats=[i for i, c in enumerate(X_train.columns) if c in dnamite_cat_cols],\n",
    "    kernel_size=10,\n",
    "    kernel_weight=3,\n",
    "    pair_kernel_size=4,\n",
    "    pair_kernel_weight=3,\n",
    "    batch_size=512,\n",
    ")\n",
    "model.fit(X_train, y_train, partialed_feats=[\"age\"])"
   ]
  },
  {
   "cell_type": "code",
   "execution_count": 4,
   "metadata": {},
   "outputs": [],
   "source": [
    "model.compute_bin_scores()"
   ]
  },
  {
   "cell_type": "code",
   "execution_count": 5,
   "metadata": {},
   "outputs": [],
   "source": [
    "from sksurv.metrics import cumulative_dynamic_auc, concordance_index_censored\n",
    "\n",
    "def get_auc(surv_preds, y_train, y_test, eval_times):\n",
    "    test_times = np.linspace(\n",
    "        max(y_train[\"time\"].min(), y_test[y_test[\"event\"] > 0][\"time\"].min()) + 1e-4,\n",
    "        min(y_train[\"time\"].max(), y_test[y_test[\"event\"] > 0][\"time\"].max()) - 1e-4,\n",
    "        1000\n",
    "    )\n",
    "    \n",
    "    surv_preds = surv_preds[\n",
    "        :, \n",
    "        np.clip(\n",
    "            np.searchsorted(eval_times.cpu().numpy(), test_times),\n",
    "            0, surv_preds.shape[1]-1\n",
    "        )\n",
    "    ]\n",
    "    risk_preds = -1 * np.log(np.clip(surv_preds, 1e-5, 10 - 1e-5))\n",
    "    # Get time-dependent AUC\n",
    "    _, mean_auc = cumulative_dynamic_auc(y_train, y_test, risk_preds, test_times)\n",
    "    \n",
    "    # Get cindex\n",
    "    cindex_time = 365*5\n",
    "    cindex_time_index = np.searchsorted(test_times, cindex_time)\n",
    "    cindex = concordance_index_censored(y_test[\"event\"], y_test[\"time\"], risk_preds[:, cindex_time_index])[0]\n",
    "    \n",
    "    return mean_auc, cindex"
   ]
  },
  {
   "cell_type": "code",
   "execution_count": 6,
   "metadata": {},
   "outputs": [
    {
     "name": "stderr",
     "output_type": "stream",
     "text": [
      "                                                \r"
     ]
    },
    {
     "data": {
      "text/plain": [
       "(0.8419182064923578, 0.851402206951865)"
      ]
     },
     "execution_count": 6,
     "metadata": {},
     "output_type": "execute_result"
    }
   ],
   "source": [
    "# After fixing categorical features\n",
    "def sigmoid(x):\n",
    "    return 1 / (1 + np.exp(-x))\n",
    "\n",
    "test_preds = model.predict(X_test)\n",
    "surv_preds = 1 - sigmoid(test_preds)\n",
    "auc = get_auc(surv_preds, y_train, y_test, model.eval_times)\n",
    "auc"
   ]
  },
  {
   "cell_type": "code",
   "execution_count": 7,
   "metadata": {},
   "outputs": [
    {
     "data": {
      "text/html": [
       "<div>\n",
       "<style scoped>\n",
       "    .dataframe tbody tr th:only-of-type {\n",
       "        vertical-align: middle;\n",
       "    }\n",
       "\n",
       "    .dataframe tbody tr th {\n",
       "        vertical-align: top;\n",
       "    }\n",
       "\n",
       "    .dataframe thead th {\n",
       "        text-align: right;\n",
       "    }\n",
       "</style>\n",
       "<table border=\"1\" class=\"dataframe\">\n",
       "  <thead>\n",
       "    <tr style=\"text-align: right;\">\n",
       "      <th></th>\n",
       "      <th>split</th>\n",
       "      <th>feature</th>\n",
       "      <th>importance</th>\n",
       "      <th>n_bins</th>\n",
       "    </tr>\n",
       "  </thead>\n",
       "  <tbody>\n",
       "    <tr>\n",
       "      <th>0</th>\n",
       "      <td>0</td>\n",
       "      <td>gender</td>\n",
       "      <td>0.213442</td>\n",
       "      <td>4</td>\n",
       "    </tr>\n",
       "    <tr>\n",
       "      <th>1</th>\n",
       "      <td>0</td>\n",
       "      <td>race</td>\n",
       "      <td>0.063153</td>\n",
       "      <td>7</td>\n",
       "    </tr>\n",
       "    <tr>\n",
       "      <th>2</th>\n",
       "      <td>0</td>\n",
       "      <td>smoking</td>\n",
       "      <td>0.180869</td>\n",
       "      <td>8</td>\n",
       "    </tr>\n",
       "    <tr>\n",
       "      <th>3</th>\n",
       "      <td>0</td>\n",
       "      <td>age</td>\n",
       "      <td>0.894650</td>\n",
       "      <td>31</td>\n",
       "    </tr>\n",
       "    <tr>\n",
       "      <th>4</th>\n",
       "      <td>0</td>\n",
       "      <td>systolic_blood_pressure</td>\n",
       "      <td>0.075242</td>\n",
       "      <td>31</td>\n",
       "    </tr>\n",
       "    <tr>\n",
       "      <th>...</th>\n",
       "      <td>...</td>\n",
       "      <td>...</td>\n",
       "      <td>...</td>\n",
       "      <td>...</td>\n",
       "    </tr>\n",
       "    <tr>\n",
       "      <th>450</th>\n",
       "      <td>4</td>\n",
       "      <td>glucose || hypertension_treatment</td>\n",
       "      <td>0.000343</td>\n",
       "      <td>93</td>\n",
       "    </tr>\n",
       "    <tr>\n",
       "      <th>451</th>\n",
       "      <td>4</td>\n",
       "      <td>glucose || diabetes_treatment</td>\n",
       "      <td>0.000745</td>\n",
       "      <td>93</td>\n",
       "    </tr>\n",
       "    <tr>\n",
       "      <th>452</th>\n",
       "      <td>4</td>\n",
       "      <td>diabetes || hypertension_treatment</td>\n",
       "      <td>0.000003</td>\n",
       "      <td>9</td>\n",
       "    </tr>\n",
       "    <tr>\n",
       "      <th>453</th>\n",
       "      <td>4</td>\n",
       "      <td>diabetes || diabetes_treatment</td>\n",
       "      <td>0.000037</td>\n",
       "      <td>9</td>\n",
       "    </tr>\n",
       "    <tr>\n",
       "      <th>454</th>\n",
       "      <td>4</td>\n",
       "      <td>hypertension_treatment || diabetes_treatment</td>\n",
       "      <td>0.000024</td>\n",
       "      <td>9</td>\n",
       "    </tr>\n",
       "  </tbody>\n",
       "</table>\n",
       "<p>455 rows × 4 columns</p>\n",
       "</div>"
      ],
      "text/plain": [
       "     split                                       feature  importance  n_bins\n",
       "0        0                                        gender    0.213442       4\n",
       "1        0                                          race    0.063153       7\n",
       "2        0                                       smoking    0.180869       8\n",
       "3        0                                           age    0.894650      31\n",
       "4        0                       systolic_blood_pressure    0.075242      31\n",
       "..     ...                                           ...         ...     ...\n",
       "450      4             glucose || hypertension_treatment    0.000343      93\n",
       "451      4                 glucose || diabetes_treatment    0.000745      93\n",
       "452      4            diabetes || hypertension_treatment    0.000003       9\n",
       "453      4                diabetes || diabetes_treatment    0.000037       9\n",
       "454      4  hypertension_treatment || diabetes_treatment    0.000024       9\n",
       "\n",
       "[455 rows x 4 columns]"
      ]
     },
     "execution_count": 7,
     "metadata": {},
     "output_type": "execute_result"
    }
   ],
   "source": [
    "feat_imps = model.get_feature_importances(eval_time=365*5)\n",
    "feat_imps"
   ]
  },
  {
   "cell_type": "code",
   "execution_count": 8,
   "metadata": {},
   "outputs": [
    {
     "data": {
      "image/png": "[encoded data removed]",
      "text/plain": [
       "<Figure size 600x400 with 1 Axes>"
      ]
     },
     "metadata": {},
     "output_type": "display_data"
    }
   ],
   "source": [
    "# Find the top k features by mean importance\n",
    "\n",
    "plt.figure(figsize=(6, 4))\n",
    "\n",
    "k = 15\n",
    "top_k_features = feat_imps.groupby(\"feature\")[\"importance\"].agg([\"mean\", \"sem\"])\n",
    "top_k_features = top_k_features.sort_values(\"mean\", ascending=True).tail(k)\n",
    "\n",
    "# Custom function to replace underscores with spaces and capitalize the first letter of each word\n",
    "def custom_capitalize(s):\n",
    "    return ' '.join(word[0].upper() + word[1:] for word in s.split('_'))\n",
    "\n",
    "top_k_features.index = top_k_features.index.map(custom_capitalize)\n",
    "# top_k_features\n",
    "\n",
    "plt.barh(top_k_features.index, top_k_features[\"mean\"], yerr=1.96*top_k_features[\"sem\"])\n",
    "plt.title(\"Heart Failure Feature \\nImportances (5 years)\")\n",
    "\n",
    "plt.tight_layout()"
   ]
  },
  {
   "cell_type": "code",
   "execution_count": 58,
   "metadata": {},
   "outputs": [],
   "source": [
    "ord_encoder = model.preprocessor.transformers_[0][1]"
   ]
  },
  {
   "cell_type": "code",
   "execution_count": 62,
   "metadata": {},
   "outputs": [
    {
     "data": {
      "text/html": [
       "<div>\n",
       "<style scoped>\n",
       "    .dataframe tbody tr th:only-of-type {\n",
       "        vertical-align: middle;\n",
       "    }\n",
       "\n",
       "    .dataframe tbody tr th {\n",
       "        vertical-align: top;\n",
       "    }\n",
       "\n",
       "    .dataframe thead th {\n",
       "        text-align: right;\n",
       "    }\n",
       "</style>\n",
       "<table border=\"1\" class=\"dataframe\">\n",
       "  <thead>\n",
       "    <tr style=\"text-align: right;\">\n",
       "      <th></th>\n",
       "      <th>feature</th>\n",
       "      <th>bin</th>\n",
       "      <th>score</th>\n",
       "      <th>count</th>\n",
       "      <th>split</th>\n",
       "    </tr>\n",
       "  </thead>\n",
       "  <tbody>\n",
       "    <tr>\n",
       "      <th>0</th>\n",
       "      <td>race</td>\n",
       "      <td>NA</td>\n",
       "      <td>-0.168493</td>\n",
       "      <td>0.0</td>\n",
       "      <td>0</td>\n",
       "    </tr>\n",
       "    <tr>\n",
       "      <th>1</th>\n",
       "      <td>race</td>\n",
       "      <td>American Indian</td>\n",
       "      <td>-0.073765</td>\n",
       "      <td>614.0</td>\n",
       "      <td>0</td>\n",
       "    </tr>\n",
       "    <tr>\n",
       "      <th>2</th>\n",
       "      <td>race</td>\n",
       "      <td>Asian</td>\n",
       "      <td>0.086795</td>\n",
       "      <td>41364.0</td>\n",
       "      <td>0</td>\n",
       "    </tr>\n",
       "    <tr>\n",
       "      <th>3</th>\n",
       "      <td>race</td>\n",
       "      <td>Black</td>\n",
       "      <td>0.245657</td>\n",
       "      <td>7461.0</td>\n",
       "      <td>0</td>\n",
       "    </tr>\n",
       "    <tr>\n",
       "      <th>4</th>\n",
       "      <td>race</td>\n",
       "      <td>Hawaiian</td>\n",
       "      <td>0.263056</td>\n",
       "      <td>1573.0</td>\n",
       "      <td>0</td>\n",
       "    </tr>\n",
       "    <tr>\n",
       "      <th>5</th>\n",
       "      <td>race</td>\n",
       "      <td>Unknown</td>\n",
       "      <td>0.107905</td>\n",
       "      <td>29624.0</td>\n",
       "      <td>0</td>\n",
       "    </tr>\n",
       "    <tr>\n",
       "      <th>6</th>\n",
       "      <td>race</td>\n",
       "      <td>White</td>\n",
       "      <td>-0.100440</td>\n",
       "      <td>89487.0</td>\n",
       "      <td>0</td>\n",
       "    </tr>\n",
       "    <tr>\n",
       "      <th>0</th>\n",
       "      <td>race</td>\n",
       "      <td>NA</td>\n",
       "      <td>-0.192507</td>\n",
       "      <td>0.0</td>\n",
       "      <td>1</td>\n",
       "    </tr>\n",
       "    <tr>\n",
       "      <th>1</th>\n",
       "      <td>race</td>\n",
       "      <td>American Indian</td>\n",
       "      <td>-0.231182</td>\n",
       "      <td>600.0</td>\n",
       "      <td>1</td>\n",
       "    </tr>\n",
       "    <tr>\n",
       "      <th>2</th>\n",
       "      <td>race</td>\n",
       "      <td>Asian</td>\n",
       "      <td>-0.124263</td>\n",
       "      <td>41356.0</td>\n",
       "      <td>1</td>\n",
       "    </tr>\n",
       "    <tr>\n",
       "      <th>3</th>\n",
       "      <td>race</td>\n",
       "      <td>Black</td>\n",
       "      <td>0.192519</td>\n",
       "      <td>7506.0</td>\n",
       "      <td>1</td>\n",
       "    </tr>\n",
       "    <tr>\n",
       "      <th>4</th>\n",
       "      <td>race</td>\n",
       "      <td>Hawaiian</td>\n",
       "      <td>0.308040</td>\n",
       "      <td>1549.0</td>\n",
       "      <td>1</td>\n",
       "    </tr>\n",
       "    <tr>\n",
       "      <th>5</th>\n",
       "      <td>race</td>\n",
       "      <td>Unknown</td>\n",
       "      <td>0.190275</td>\n",
       "      <td>29347.0</td>\n",
       "      <td>1</td>\n",
       "    </tr>\n",
       "    <tr>\n",
       "      <th>6</th>\n",
       "      <td>race</td>\n",
       "      <td>White</td>\n",
       "      <td>-0.024826</td>\n",
       "      <td>89765.0</td>\n",
       "      <td>1</td>\n",
       "    </tr>\n",
       "    <tr>\n",
       "      <th>0</th>\n",
       "      <td>race</td>\n",
       "      <td>NA</td>\n",
       "      <td>-0.191216</td>\n",
       "      <td>0.0</td>\n",
       "      <td>2</td>\n",
       "    </tr>\n",
       "    <tr>\n",
       "      <th>1</th>\n",
       "      <td>race</td>\n",
       "      <td>American Indian</td>\n",
       "      <td>-0.118087</td>\n",
       "      <td>603.0</td>\n",
       "      <td>2</td>\n",
       "    </tr>\n",
       "    <tr>\n",
       "      <th>2</th>\n",
       "      <td>race</td>\n",
       "      <td>Asian</td>\n",
       "      <td>0.050584</td>\n",
       "      <td>41373.0</td>\n",
       "      <td>2</td>\n",
       "    </tr>\n",
       "    <tr>\n",
       "      <th>3</th>\n",
       "      <td>race</td>\n",
       "      <td>Black</td>\n",
       "      <td>0.210574</td>\n",
       "      <td>7491.0</td>\n",
       "      <td>2</td>\n",
       "    </tr>\n",
       "    <tr>\n",
       "      <th>4</th>\n",
       "      <td>race</td>\n",
       "      <td>Hawaiian</td>\n",
       "      <td>0.223000</td>\n",
       "      <td>1589.0</td>\n",
       "      <td>2</td>\n",
       "    </tr>\n",
       "    <tr>\n",
       "      <th>5</th>\n",
       "      <td>race</td>\n",
       "      <td>Unknown</td>\n",
       "      <td>0.088872</td>\n",
       "      <td>29450.0</td>\n",
       "      <td>2</td>\n",
       "    </tr>\n",
       "    <tr>\n",
       "      <th>6</th>\n",
       "      <td>race</td>\n",
       "      <td>White</td>\n",
       "      <td>-0.073319</td>\n",
       "      <td>89617.0</td>\n",
       "      <td>2</td>\n",
       "    </tr>\n",
       "    <tr>\n",
       "      <th>0</th>\n",
       "      <td>race</td>\n",
       "      <td>NA</td>\n",
       "      <td>-0.246637</td>\n",
       "      <td>0.0</td>\n",
       "      <td>3</td>\n",
       "    </tr>\n",
       "    <tr>\n",
       "      <th>1</th>\n",
       "      <td>race</td>\n",
       "      <td>American Indian</td>\n",
       "      <td>-0.235457</td>\n",
       "      <td>614.0</td>\n",
       "      <td>3</td>\n",
       "    </tr>\n",
       "    <tr>\n",
       "      <th>2</th>\n",
       "      <td>race</td>\n",
       "      <td>Asian</td>\n",
       "      <td>-0.007283</td>\n",
       "      <td>41562.0</td>\n",
       "      <td>3</td>\n",
       "    </tr>\n",
       "    <tr>\n",
       "      <th>3</th>\n",
       "      <td>race</td>\n",
       "      <td>Black</td>\n",
       "      <td>0.230884</td>\n",
       "      <td>7515.0</td>\n",
       "      <td>3</td>\n",
       "    </tr>\n",
       "    <tr>\n",
       "      <th>4</th>\n",
       "      <td>race</td>\n",
       "      <td>Hawaiian</td>\n",
       "      <td>0.241093</td>\n",
       "      <td>1581.0</td>\n",
       "      <td>3</td>\n",
       "    </tr>\n",
       "    <tr>\n",
       "      <th>5</th>\n",
       "      <td>race</td>\n",
       "      <td>Unknown</td>\n",
       "      <td>0.102322</td>\n",
       "      <td>29368.0</td>\n",
       "      <td>3</td>\n",
       "    </tr>\n",
       "    <tr>\n",
       "      <th>6</th>\n",
       "      <td>race</td>\n",
       "      <td>White</td>\n",
       "      <td>-0.052233</td>\n",
       "      <td>89483.0</td>\n",
       "      <td>3</td>\n",
       "    </tr>\n",
       "    <tr>\n",
       "      <th>0</th>\n",
       "      <td>race</td>\n",
       "      <td>NA</td>\n",
       "      <td>-0.195087</td>\n",
       "      <td>0.0</td>\n",
       "      <td>4</td>\n",
       "    </tr>\n",
       "    <tr>\n",
       "      <th>1</th>\n",
       "      <td>race</td>\n",
       "      <td>American Indian</td>\n",
       "      <td>-0.083357</td>\n",
       "      <td>617.0</td>\n",
       "      <td>4</td>\n",
       "    </tr>\n",
       "    <tr>\n",
       "      <th>2</th>\n",
       "      <td>race</td>\n",
       "      <td>Asian</td>\n",
       "      <td>0.077625</td>\n",
       "      <td>41404.0</td>\n",
       "      <td>4</td>\n",
       "    </tr>\n",
       "    <tr>\n",
       "      <th>3</th>\n",
       "      <td>race</td>\n",
       "      <td>Black</td>\n",
       "      <td>0.196995</td>\n",
       "      <td>7481.0</td>\n",
       "      <td>4</td>\n",
       "    </tr>\n",
       "    <tr>\n",
       "      <th>4</th>\n",
       "      <td>race</td>\n",
       "      <td>Hawaiian</td>\n",
       "      <td>0.193993</td>\n",
       "      <td>1553.0</td>\n",
       "      <td>4</td>\n",
       "    </tr>\n",
       "    <tr>\n",
       "      <th>5</th>\n",
       "      <td>race</td>\n",
       "      <td>Unknown</td>\n",
       "      <td>0.074957</td>\n",
       "      <td>29377.0</td>\n",
       "      <td>4</td>\n",
       "    </tr>\n",
       "    <tr>\n",
       "      <th>6</th>\n",
       "      <td>race</td>\n",
       "      <td>White</td>\n",
       "      <td>-0.079602</td>\n",
       "      <td>89691.0</td>\n",
       "      <td>4</td>\n",
       "    </tr>\n",
       "  </tbody>\n",
       "</table>\n",
       "</div>"
      ],
      "text/plain": [
       "  feature              bin     score    count  split\n",
       "0    race               NA -0.168493      0.0      0\n",
       "1    race  American Indian -0.073765    614.0      0\n",
       "2    race            Asian  0.086795  41364.0      0\n",
       "3    race            Black  0.245657   7461.0      0\n",
       "4    race         Hawaiian  0.263056   1573.0      0\n",
       "5    race          Unknown  0.107905  29624.0      0\n",
       "6    race            White -0.100440  89487.0      0\n",
       "0    race               NA -0.192507      0.0      1\n",
       "1    race  American Indian -0.231182    600.0      1\n",
       "2    race            Asian -0.124263  41356.0      1\n",
       "3    race            Black  0.192519   7506.0      1\n",
       "4    race         Hawaiian  0.308040   1549.0      1\n",
       "5    race          Unknown  0.190275  29347.0      1\n",
       "6    race            White -0.024826  89765.0      1\n",
       "0    race               NA -0.191216      0.0      2\n",
       "1    race  American Indian -0.118087    603.0      2\n",
       "2    race            Asian  0.050584  41373.0      2\n",
       "3    race            Black  0.210574   7491.0      2\n",
       "4    race         Hawaiian  0.223000   1589.0      2\n",
       "5    race          Unknown  0.088872  29450.0      2\n",
       "6    race            White -0.073319  89617.0      2\n",
       "0    race               NA -0.246637      0.0      3\n",
       "1    race  American Indian -0.235457    614.0      3\n",
       "2    race            Asian -0.007283  41562.0      3\n",
       "3    race            Black  0.230884   7515.0      3\n",
       "4    race         Hawaiian  0.241093   1581.0      3\n",
       "5    race          Unknown  0.102322  29368.0      3\n",
       "6    race            White -0.052233  89483.0      3\n",
       "0    race               NA -0.195087      0.0      4\n",
       "1    race  American Indian -0.083357    617.0      4\n",
       "2    race            Asian  0.077625  41404.0      4\n",
       "3    race            Black  0.196995   7481.0      4\n",
       "4    race         Hawaiian  0.193993   1553.0      4\n",
       "5    race          Unknown  0.074957  29377.0      4\n",
       "6    race            White -0.079602  89691.0      4"
      ]
     },
     "execution_count": 62,
     "metadata": {},
     "output_type": "execute_result"
    }
   ],
   "source": [
    "cat_col = \"race\"\n",
    "shape_data = model.get_shape_function(cat_col, eval_time=365*5, is_cat_col=True)\n",
    "\n",
    "feat_index = np.where(ord_encoder.feature_names_in_ == cat_col)[0][0]\n",
    "cat_feat_map = {-1: \"NA\"}\n",
    "for i, cat in enumerate(ord_encoder.categories_[feat_index]):\n",
    "    cat_feat_map[i] = cat\n",
    "    \n",
    "shape_data[\"bin\"] = shape_data[\"bin\"].map(cat_feat_map)\n",
    "shape_data"
   ]
  },
  {
   "cell_type": "code",
   "execution_count": 9,
   "metadata": {},
   "outputs": [
    {
     "name": "stdout",
     "output_type": "stream",
     "text": [
      "PAIR BIN VALUES (900, 2)\n",
      "PAIR BIN VALUES (900, 2)\n",
      "PAIR BIN VALUES (900, 2)\n",
      "PAIR BIN VALUES (900, 2)\n",
      "PAIR BIN VALUES (900, 2)\n"
     ]
    },
    {
     "data": {
      "text/plain": [
       "<AxesSubplot: xlabel='systolic_blood_pressure', ylabel='age'>"
      ]
     },
     "execution_count": 9,
     "metadata": {},
     "output_type": "execute_result"
    },
    {
     "data": {
      "image/png": "[encoded data removed]",
      "text/plain": [
       "<Figure size 640x480 with 2 Axes>"
      ]
     },
     "metadata": {},
     "output_type": "display_data"
    }
   ],
   "source": [
    "col1 = \"age\"\n",
    "col2 = \"systolic_blood_pressure\"\n",
    "\n",
    "pair_scores, pair_values = model.get_pair_shape_function(col1, col2, eval_time=365*5)\n",
    "\n",
    "pair_scores = np.mean(np.stack(pair_scores), axis=0)\n",
    "pair_values = pair_values[0]\n",
    "\n",
    "pair_data_dnamite = pd.DataFrame({\n",
    "    col1: pair_values[:, 0],\n",
    "    col2: pair_values[:, 1],\n",
    "    \"score\": pair_scores\n",
    "})\n",
    "\n",
    "pair_data_dnamite = pair_data_dnamite.pivot(\n",
    "    index=col1, \n",
    "    columns=col2, \n",
    "    values=\"score\"\n",
    ")\n",
    "\n",
    "# Round the values in the columns and index\n",
    "# Round the index and columns to 3 decimal places and reassign\n",
    "pair_data_dnamite.index = pair_data_dnamite.index.to_series().round(3)\n",
    "pair_data_dnamite.columns = pair_data_dnamite.columns.to_series().round(3)\n",
    "\n",
    "sns.heatmap(pair_data_dnamite)"
   ]
  },
  {
   "cell_type": "code",
   "execution_count": 69,
   "metadata": {},
   "outputs": [
    {
     "data": {
      "text/plain": [
       "(180,)"
      ]
     },
     "execution_count": 69,
     "metadata": {},
     "output_type": "execute_result"
    }
   ],
   "source": [
    "pair_scores.shape"
   ]
  },
  {
   "cell_type": "code",
   "execution_count": 70,
   "metadata": {},
   "outputs": [
    {
     "data": {
      "text/plain": [
       "(210, 2)"
      ]
     },
     "execution_count": 70,
     "metadata": {},
     "output_type": "execute_result"
    }
   ],
   "source": [
    "pair_values.shape"
   ]
  },
  {
   "cell_type": "code",
   "execution_count": 75,
   "metadata": {},
   "outputs": [
    {
     "name": "stdout",
     "output_type": "stream",
     "text": [
      "PAIR BIN SCORES (217,)\n",
      "PAIR BIN SCORES (210,)\n",
      "PAIR BIN VALUES (210, 2)\n",
      "PAIR BIN SCORES (217,)\n",
      "PAIR BIN SCORES (210,)\n",
      "PAIR BIN VALUES (210, 2)\n",
      "PAIR BIN SCORES (217,)\n",
      "PAIR BIN SCORES (210,)\n",
      "PAIR BIN VALUES (210, 2)\n",
      "PAIR BIN SCORES (217,)\n",
      "PAIR BIN SCORES (210,)\n",
      "PAIR BIN VALUES (210, 2)\n",
      "PAIR BIN SCORES (217,)\n",
      "PAIR BIN SCORES (210,)\n",
      "PAIR BIN VALUES (210, 2)\n"
     ]
    },
    {
     "data": {
      "text/plain": [
       "<AxesSubplot: xlabel='race', ylabel='age'>"
      ]
     },
     "execution_count": 75,
     "metadata": {},
     "output_type": "execute_result"
    },
    {
     "data": {
      "image/png": "[encoded data removed]",
      "text/plain": [
       "<Figure size 640x480 with 2 Axes>"
      ]
     },
     "metadata": {},
     "output_type": "display_data"
    }
   ],
   "source": [
    "col1 = \"age\"\n",
    "col2 = \"race\"\n",
    "\n",
    "pair_scores, pair_values = model.get_pair_shape_function(col1, col2, eval_time=365*5, is_feat2_cat_col=True)\n",
    "\n",
    "pair_scores = np.mean(np.stack(pair_scores), axis=0)\n",
    "pair_values = pair_values[0]\n",
    "\n",
    "pair_data_dnamite = pd.DataFrame({\n",
    "    col1: pair_values[:, 0],\n",
    "    col2: pair_values[:, 1],\n",
    "    \"score\": pair_scores\n",
    "})\n",
    "\n",
    "pair_data_dnamite = pair_data_dnamite.pivot(\n",
    "    index=col1, \n",
    "    columns=col2, \n",
    "    values=\"score\"\n",
    ")\n",
    "\n",
    "# Round the values in the columns and index\n",
    "# Round the index and columns to 3 decimal places and reassign\n",
    "pair_data_dnamite.index = pair_data_dnamite.index.to_series().round(3)\n",
    "pair_data_dnamite.columns = pair_data_dnamite.columns.to_series().round(3)\n",
    "\n",
    "sns.heatmap(pair_data_dnamite)"
   ]
  }
 ],
 "metadata": {
  "kernelspec": {
   "display_name": "default",
   "language": "python",
   "name": "python3"
  },
  "language_info": {
   "codemirror_mode": {
    "name": "ipython",
    "version": 3
   },
   "file_extension": ".py",
   "mimetype": "text/x-python",
   "name": "python",
   "nbconvert_exporter": "python",
   "pygments_lexer": "ipython3",
   "version": "3.10.12"
  }
 },
 "nbformat": 4,
 "nbformat_minor": 2
}
