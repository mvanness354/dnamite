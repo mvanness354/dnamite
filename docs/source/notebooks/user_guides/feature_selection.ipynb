{
 "cells": [
  {
   "cell_type": "markdown",
   "metadata": {},
   "source": [
    "# Feature Selection\n",
    "\n",
    "This user guide details how DNAMite can be used for feature selection / feature-sparse prediction."
   ]
  },
  {
   "cell_type": "markdown",
   "metadata": {},
   "source": [
    "### Why Bother with Feature Selection?\n",
    "\n",
    "When training a black-box machine learning model, it is common practice to use all available features even for high-dimensional datasets, as modern ML models can easily handle many features. When training a glass-box model, however, we need to care about both predictive performance as well as accurate and utility of explanations. While glass-box models often have good accurate on high-dimensional datasets, model explanations are much more likely to be impaired in such settings. In particular, when sets of correlated features are all used in the same dataset, additive models like DNAMite run into identifiability issues with how to spread contribution across the feature set."
   ]
  },
  {
   "cell_type": "markdown",
   "metadata": {},
   "source": [
    "### DNAMite Example"
   ]
  },
  {
   "cell_type": "code",
   "execution_count": 1,
   "metadata": {},
   "outputs": [],
   "source": [
    "%load_ext autoreload\n",
    "%autoreload 2\n",
    "\n",
    "import numpy as np \n",
    "import pandas as pd \n",
    "import matplotlib.pyplot as plt \n",
    "import seaborn as sns \n",
    "sns.set_theme()\n",
    "from sklearn.model_selection import train_test_split\n",
    "import torch\n",
    "device = \"cuda\" if torch.cuda.is_available() else \"cpu\"\n",
    "\n",
    "df_train = pd.read_csv(\"mortality_tab_train.csv\")\n",
    "X_train = df_train.drop([\"target\"], axis=1)\n",
    "y_train = df_train[\"target\"]\n",
    "\n",
    "df_test = pd.read_csv(\"mortality_tab_test.csv\")\n",
    "X_test = df_test.drop([\"target\"], axis=1)\n",
    "y_test = df_test[\"target\"]"
   ]
  },
  {
   "cell_type": "code",
   "execution_count": 2,
   "metadata": {},
   "outputs": [
    {
     "name": "stdout",
     "output_type": "stream",
     "text": [
      "Discretizing features...\n"
     ]
    },
    {
     "name": "stderr",
     "output_type": "stream",
     "text": [
      "100%|██████████| 714/714 [00:00<00:00, 1095.73it/s]\n"
     ]
    },
    {
     "name": "stdout",
     "output_type": "stream",
     "text": [
      "SPlIT 0\n",
      "TRAINING MAINS\n"
     ]
    },
    {
     "name": "stderr",
     "output_type": "stream",
     "text": [
      "                                                \r"
     ]
    },
    {
     "name": "stdout",
     "output_type": "stream",
     "text": [
      "Early stopping at 6 epochs: Test loss has not improved for 5 consecutive epochs.\n",
      "SPlIT 1\n",
      "TRAINING MAINS\n"
     ]
    },
    {
     "name": "stderr",
     "output_type": "stream",
     "text": [
      "                                                \r"
     ]
    },
    {
     "name": "stdout",
     "output_type": "stream",
     "text": [
      "Early stopping at 7 epochs: Test loss has not improved for 5 consecutive epochs.\n",
      "SPlIT 2\n",
      "TRAINING MAINS\n"
     ]
    },
    {
     "name": "stderr",
     "output_type": "stream",
     "text": [
      "                                                \r"
     ]
    },
    {
     "name": "stdout",
     "output_type": "stream",
     "text": [
      "Early stopping at 8 epochs: Test loss has not improved for 5 consecutive epochs.\n",
      "SPlIT 3\n",
      "TRAINING MAINS\n"
     ]
    },
    {
     "name": "stderr",
     "output_type": "stream",
     "text": [
      "                                                \r"
     ]
    },
    {
     "name": "stdout",
     "output_type": "stream",
     "text": [
      "Early stopping at 8 epochs: Test loss has not improved for 5 consecutive epochs.\n",
      "SPlIT 4\n",
      "TRAINING MAINS\n"
     ]
    },
    {
     "name": "stderr",
     "output_type": "stream",
     "text": [
      "                                                \r"
     ]
    },
    {
     "name": "stdout",
     "output_type": "stream",
     "text": [
      "Early stopping at 7 epochs: Test loss has not improved for 5 consecutive epochs.\n"
     ]
    }
   ],
   "source": [
    "from dnamite.models import DNAMiteBinaryClassifier\n",
    "\n",
    "model = DNAMiteBinaryClassifier(n_features=X_train.shape[1], device=device, fit_pairs=False)\n",
    "model.fit(X_train, y_train)"
   ]
  },
  {
   "cell_type": "code",
   "execution_count": 3,
   "metadata": {},
   "outputs": [
    {
     "name": "stderr",
     "output_type": "stream",
     "text": [
      "                                      "
     ]
    },
    {
     "name": "stdout",
     "output_type": "stream",
     "text": [
      "TEST AUC:  0.8468704806107692\n"
     ]
    },
    {
     "name": "stderr",
     "output_type": "stream",
     "text": [
      "\r"
     ]
    }
   ],
   "source": [
    "from sklearn.metrics import roc_auc_score\n",
    "print(\"TEST AUC: \", roc_auc_score(y_test, model.predict_proba(X_test)))"
   ]
  },
  {
   "cell_type": "code",
   "execution_count": 5,
   "metadata": {},
   "outputs": [
    {
     "name": "stdout",
     "output_type": "stream",
     "text": [
      "Discretizing features...\n"
     ]
    },
    {
     "name": "stderr",
     "output_type": "stream",
     "text": [
      "100%|██████████| 714/714 [00:00<00:00, 1217.36it/s]\n",
      "                                                \r"
     ]
    },
    {
     "name": "stdout",
     "output_type": "stream",
     "text": [
      "Epoch 1 | Train loss: 2.167 | Test loss: 1.101 | Active features: 714\n"
     ]
    },
    {
     "name": "stderr",
     "output_type": "stream",
     "text": [
      "                                                \r"
     ]
    },
    {
     "name": "stdout",
     "output_type": "stream",
     "text": [
      "Epoch 2 | Train loss: 0.645 | Test loss: 0.425 | Active features: 714\n"
     ]
    },
    {
     "name": "stderr",
     "output_type": "stream",
     "text": [
      "                                                \r"
     ]
    },
    {
     "name": "stdout",
     "output_type": "stream",
     "text": [
      "Epoch 3 | Train loss: 0.362 | Test loss: 0.357 | Active features: 461\n"
     ]
    },
    {
     "name": "stderr",
     "output_type": "stream",
     "text": [
      "                                                \r"
     ]
    },
    {
     "name": "stdout",
     "output_type": "stream",
     "text": [
      "Epoch 4 | Train loss: 0.334 | Test loss: 0.348 | Active features: 287\n"
     ]
    },
    {
     "name": "stderr",
     "output_type": "stream",
     "text": [
      "                                                \r"
     ]
    },
    {
     "name": "stdout",
     "output_type": "stream",
     "text": [
      "Epoch 5 | Train loss: 0.326 | Test loss: 0.346 | Active features: 130\n"
     ]
    },
    {
     "name": "stderr",
     "output_type": "stream",
     "text": [
      "                                                \r"
     ]
    },
    {
     "name": "stdout",
     "output_type": "stream",
     "text": [
      "Epoch 6 | Train loss: 0.323 | Test loss: 0.342 | Active features: 58\n"
     ]
    },
    {
     "name": "stderr",
     "output_type": "stream",
     "text": [
      "                                                \r"
     ]
    },
    {
     "name": "stdout",
     "output_type": "stream",
     "text": [
      "Epoch 7 | Train loss: 0.318 | Test loss: 0.337 | Active features: 39\n"
     ]
    },
    {
     "name": "stderr",
     "output_type": "stream",
     "text": [
      "                                                \r"
     ]
    },
    {
     "name": "stdout",
     "output_type": "stream",
     "text": [
      "Epoch 8 | Train loss: 0.316 | Test loss: 0.337 | Active features: 22\n"
     ]
    },
    {
     "name": "stderr",
     "output_type": "stream",
     "text": [
      "                                                \r"
     ]
    },
    {
     "name": "stdout",
     "output_type": "stream",
     "text": [
      "Epoch 9 | Train loss: 0.314 | Test loss: 0.339 | Active features: 21\n"
     ]
    },
    {
     "name": "stderr",
     "output_type": "stream",
     "text": [
      "                                                \r"
     ]
    },
    {
     "name": "stdout",
     "output_type": "stream",
     "text": [
      "Epoch 10 | Train loss: 0.313 | Test loss: 0.338 | Active features: 21\n"
     ]
    },
    {
     "name": "stderr",
     "output_type": "stream",
     "text": [
      "                                                \r"
     ]
    },
    {
     "name": "stdout",
     "output_type": "stream",
     "text": [
      "Epoch 11 | Train loss: 0.312 | Test loss: 0.334 | Active features: 21\n"
     ]
    },
    {
     "name": "stderr",
     "output_type": "stream",
     "text": [
      "                                                \r"
     ]
    },
    {
     "name": "stdout",
     "output_type": "stream",
     "text": [
      "Epoch 12 | Train loss: 0.312 | Test loss: 0.333 | Active features: 21\n"
     ]
    },
    {
     "name": "stderr",
     "output_type": "stream",
     "text": [
      "                                                \r"
     ]
    },
    {
     "name": "stdout",
     "output_type": "stream",
     "text": [
      "Epoch 13 | Train loss: 0.310 | Test loss: 0.335 | Active features: 21\n"
     ]
    },
    {
     "name": "stderr",
     "output_type": "stream",
     "text": [
      "                                                \r"
     ]
    },
    {
     "name": "stdout",
     "output_type": "stream",
     "text": [
      "Epoch 14 | Train loss: 0.309 | Test loss: 0.335 | Active features: 21\n"
     ]
    },
    {
     "name": "stderr",
     "output_type": "stream",
     "text": [
      "                                                \r"
     ]
    },
    {
     "name": "stdout",
     "output_type": "stream",
     "text": [
      "Epoch 15 | Train loss: 0.308 | Test loss: 0.334 | Active features: 21\n"
     ]
    },
    {
     "name": "stderr",
     "output_type": "stream",
     "text": [
      "                                                \r"
     ]
    },
    {
     "name": "stdout",
     "output_type": "stream",
     "text": [
      "Epoch 16 | Train loss: 0.309 | Test loss: 0.339 | Active features: 20\n"
     ]
    },
    {
     "name": "stderr",
     "output_type": "stream",
     "text": [
      "                                                \r"
     ]
    },
    {
     "name": "stdout",
     "output_type": "stream",
     "text": [
      "Epoch 17 | Train loss: 0.307 | Test loss: 0.331 | Active features: 20\n"
     ]
    },
    {
     "name": "stderr",
     "output_type": "stream",
     "text": [
      "                                                \r"
     ]
    },
    {
     "name": "stdout",
     "output_type": "stream",
     "text": [
      "Epoch 18 | Train loss: 0.308 | Test loss: 0.331 | Active features: 20\n"
     ]
    },
    {
     "name": "stderr",
     "output_type": "stream",
     "text": [
      "                                                \r"
     ]
    },
    {
     "name": "stdout",
     "output_type": "stream",
     "text": [
      "Epoch 19 | Train loss: 0.306 | Test loss: 0.329 | Active features: 20\n"
     ]
    },
    {
     "name": "stderr",
     "output_type": "stream",
     "text": [
      "                                                \r"
     ]
    },
    {
     "name": "stdout",
     "output_type": "stream",
     "text": [
      "Epoch 20 | Train loss: 0.306 | Test loss: 0.331 | Active features: 20\n"
     ]
    },
    {
     "name": "stderr",
     "output_type": "stream",
     "text": [
      "                                                \r"
     ]
    },
    {
     "name": "stdout",
     "output_type": "stream",
     "text": [
      "Epoch 21 | Train loss: 0.305 | Test loss: 0.338 | Active features: 20\n"
     ]
    },
    {
     "name": "stderr",
     "output_type": "stream",
     "text": [
      "                                                \r"
     ]
    },
    {
     "name": "stdout",
     "output_type": "stream",
     "text": [
      "Epoch 22 | Train loss: 0.305 | Test loss: 0.333 | Active features: 20\n"
     ]
    },
    {
     "name": "stderr",
     "output_type": "stream",
     "text": [
      "                                                \r"
     ]
    },
    {
     "name": "stdout",
     "output_type": "stream",
     "text": [
      "Epoch 23 | Train loss: 0.305 | Test loss: 0.332 | Active features: 20\n"
     ]
    },
    {
     "name": "stderr",
     "output_type": "stream",
     "text": [
      "                                                \r"
     ]
    },
    {
     "name": "stdout",
     "output_type": "stream",
     "text": [
      "Epoch 24 | Train loss: 0.305 | Test loss: 0.329 | Active features: 20\n",
      "Early stopping at 24 epochs: Test loss has not improved for 5 consecutive epochs.\n",
      "Number of main features selected:  20\n"
     ]
    }
   ],
   "source": [
    "model = DNAMiteBinaryClassifier(\n",
    "    n_features=X_train.shape[1], \n",
    "    device=device, \n",
    "    fit_pairs=False,\n",
    "    reg_param=0.008,\n",
    "    gamma=0.1\n",
    ")\n",
    "model.select_features(X_train, y_train)"
   ]
  },
  {
   "cell_type": "code",
   "execution_count": 6,
   "metadata": {},
   "outputs": [
    {
     "data": {
      "text/plain": [
       "['Glascow coma scale eye opening | 50-100% | min',\n",
       " 'Glascow coma scale eye opening | 75-100% | min',\n",
       " 'Glascow coma scale eye opening | 90-100% | mean',\n",
       " 'Glascow coma scale motor response | 0-50% | std',\n",
       " 'Glascow coma scale motor response | 75-100% | max',\n",
       " 'Glascow coma scale motor response | 90-100% | max',\n",
       " 'Glascow coma scale verbal response | 75-100% | max',\n",
       " 'Glascow coma scale verbal response | 75-100% | mean',\n",
       " 'Glucose | 0-25% | len',\n",
       " 'Glucose | 50-100% | min',\n",
       " 'Glucose | 90-100% | mean',\n",
       " 'Mean blood pressure | 0-10% | mean',\n",
       " 'Oxygen saturation | 90-100% | len',\n",
       " 'Respiratory rate | 0-25% | mean',\n",
       " 'Respiratory rate | 90-100% | min',\n",
       " 'Respiratory rate | 90-100% | std',\n",
       " 'Systolic blood pressure | 50-100% | mean',\n",
       " 'Temperature | 75-100% | min',\n",
       " 'Temperature | 90-100% | mean',\n",
       " 'pH | 0-25% | len']"
      ]
     },
     "execution_count": 6,
     "metadata": {},
     "output_type": "execute_result"
    }
   ],
   "source": [
    "model.selected_feats"
   ]
  },
  {
   "cell_type": "code",
   "execution_count": 7,
   "metadata": {},
   "outputs": [
    {
     "name": "stdout",
     "output_type": "stream",
     "text": [
      "SPlIT 0\n",
      "Found selected features. Using only those features.\n",
      "TRAINING MAINS\n"
     ]
    },
    {
     "name": "stderr",
     "output_type": "stream",
     "text": [
      "                                                \r"
     ]
    },
    {
     "name": "stdout",
     "output_type": "stream",
     "text": [
      "Early stopping at 11 epochs: Test loss has not improved for 5 consecutive epochs.\n",
      "SPlIT 1\n",
      "Found selected features. Using only those features.\n",
      "TRAINING MAINS\n"
     ]
    },
    {
     "name": "stderr",
     "output_type": "stream",
     "text": [
      "                                                \r"
     ]
    },
    {
     "name": "stdout",
     "output_type": "stream",
     "text": [
      "Early stopping at 14 epochs: Test loss has not improved for 5 consecutive epochs.\n",
      "SPlIT 2\n",
      "Found selected features. Using only those features.\n",
      "TRAINING MAINS\n"
     ]
    },
    {
     "name": "stderr",
     "output_type": "stream",
     "text": [
      "                                                \r"
     ]
    },
    {
     "name": "stdout",
     "output_type": "stream",
     "text": [
      "Early stopping at 13 epochs: Test loss has not improved for 5 consecutive epochs.\n",
      "SPlIT 3\n",
      "Found selected features. Using only those features.\n",
      "TRAINING MAINS\n"
     ]
    },
    {
     "name": "stderr",
     "output_type": "stream",
     "text": [
      "                                                \r"
     ]
    },
    {
     "name": "stdout",
     "output_type": "stream",
     "text": [
      "Early stopping at 14 epochs: Test loss has not improved for 5 consecutive epochs.\n",
      "SPlIT 4\n",
      "Found selected features. Using only those features.\n",
      "TRAINING MAINS\n"
     ]
    },
    {
     "name": "stderr",
     "output_type": "stream",
     "text": [
      "                                                \r"
     ]
    },
    {
     "name": "stdout",
     "output_type": "stream",
     "text": [
      "Early stopping at 10 epochs: Test loss has not improved for 5 consecutive epochs.\n"
     ]
    }
   ],
   "source": [
    "model.fit(X_train, y_train)"
   ]
  },
  {
   "cell_type": "code",
   "execution_count": 8,
   "metadata": {},
   "outputs": [
    {
     "name": "stderr",
     "output_type": "stream",
     "text": [
      "                                               "
     ]
    },
    {
     "name": "stdout",
     "output_type": "stream",
     "text": [
      "TEST AUC:  0.49946187737530684\n"
     ]
    },
    {
     "name": "stderr",
     "output_type": "stream",
     "text": [
      "\r"
     ]
    }
   ],
   "source": [
    "print(\"TEST AUC: \", roc_auc_score(y_test, model.predict_proba(X_test)))"
   ]
  },
  {
   "cell_type": "markdown",
   "metadata": {},
   "source": [
    "### Hyperparameters\n",
    "\n",
    "DNAMite has multiple hyperparameters that can be set to control the "
   ]
  }
 ],
 "metadata": {
  "kernelspec": {
   "display_name": "default",
   "language": "python",
   "name": "python3"
  },
  "language_info": {
   "codemirror_mode": {
    "name": "ipython",
    "version": 3
   },
   "file_extension": ".py",
   "mimetype": "text/x-python",
   "name": "python",
   "nbconvert_exporter": "python",
   "pygments_lexer": "ipython3",
   "version": "3.10.12"
  }
 },
 "nbformat": 4,
 "nbformat_minor": 2
}
