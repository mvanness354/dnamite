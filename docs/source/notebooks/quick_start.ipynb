{
 "cells": [
  {
   "cell_type": "markdown",
   "metadata": {},
   "source": [
    "# Quick Start\n",
    "\n",
    "This quick start tutorial will demonstrate the basic usage of DNAMite. For more detailed usage see the User Guide."
   ]
  },
  {
   "cell_type": "code",
   "execution_count": 1,
   "metadata": {},
   "outputs": [],
   "source": [
    "%load_ext autoreload\n",
    "%autoreload 2\n",
    "\n",
    "import numpy as np  \n",
    "import pandas as pd\n",
    "import matplotlib.pyplot as plt\n",
    "import seaborn as sns\n",
    "sns.set_theme()\n",
    "from sklearn.model_selection import train_test_split\n",
    "\n",
    "import torch\n",
    "device = torch.device(\"cuda\" if torch.cuda.is_available() else \"cpu\")"
   ]
  },
  {
   "cell_type": "markdown",
   "metadata": {},
   "source": [
    "## Regression\n",
    "\n",
    "We'll start by importing some packages and reading in the California Housing dataset, a standard regression dataset."
   ]
  },
  {
   "cell_type": "code",
   "execution_count": 2,
   "metadata": {},
   "outputs": [],
   "source": [
    "# Import california housing dataset\n",
    "from sklearn.datasets import fetch_california_housing\n",
    "\n",
    "data = fetch_california_housing(as_frame=True)\n",
    "X, y = data[\"data\"], data[\"target\"]\n",
    "\n",
    "# train test split\n",
    "X_train, X_test, y_train, y_test = train_test_split(X, y, test_size=0.2, random_state=10)"
   ]
  },
  {
   "cell_type": "markdown",
   "metadata": {},
   "source": [
    "To fit a DNAMite model to this data, we use DNAMiteRegressor. The only required input parameter is the number of features we'd like our model to have. We also input a device so that the model trains on GPU. The model will fit a neural network for each feature as well as all pairwise interactions."
   ]
  },
  {
   "cell_type": "code",
   "execution_count": 3,
   "metadata": {},
   "outputs": [
    {
     "name": "stdout",
     "output_type": "stream",
     "text": [
      "SPlIT 0\n",
      "TRAINING MAINS\n"
     ]
    },
    {
     "name": "stderr",
     "output_type": "stream",
     "text": [
      "                                                  \r"
     ]
    },
    {
     "name": "stdout",
     "output_type": "stream",
     "text": [
      "Early stopping at 88 epochs: Test loss has not improved for 5 consecutive epochs.\n",
      "Didn't find selected pair indices. Selecting all pairs.\n",
      "TRAINING PAIRS\n"
     ]
    },
    {
     "name": "stderr",
     "output_type": "stream",
     "text": [
      "                                                  \r"
     ]
    },
    {
     "name": "stdout",
     "output_type": "stream",
     "text": [
      "Early stopping at 97 epochs: Test loss has not improved for 5 consecutive epochs.\n",
      "SPlIT 1\n",
      "TRAINING MAINS\n"
     ]
    },
    {
     "name": "stderr",
     "output_type": "stream",
     "text": [
      "                                                  \r"
     ]
    },
    {
     "name": "stdout",
     "output_type": "stream",
     "text": [
      "TRAINING PAIRS\n"
     ]
    },
    {
     "name": "stderr",
     "output_type": "stream",
     "text": [
      "                                                  \r"
     ]
    },
    {
     "name": "stdout",
     "output_type": "stream",
     "text": [
      "SPlIT 2\n",
      "TRAINING MAINS\n"
     ]
    },
    {
     "name": "stderr",
     "output_type": "stream",
     "text": [
      "                                                  \r"
     ]
    },
    {
     "name": "stdout",
     "output_type": "stream",
     "text": [
      "Early stopping at 91 epochs: Test loss has not improved for 5 consecutive epochs.\n",
      "TRAINING PAIRS\n"
     ]
    },
    {
     "name": "stderr",
     "output_type": "stream",
     "text": [
      "                                                  \r"
     ]
    },
    {
     "name": "stdout",
     "output_type": "stream",
     "text": [
      "Early stopping at 97 epochs: Test loss has not improved for 5 consecutive epochs.\n",
      "SPlIT 3\n",
      "TRAINING MAINS\n"
     ]
    },
    {
     "name": "stderr",
     "output_type": "stream",
     "text": [
      "                                                  \r"
     ]
    },
    {
     "name": "stdout",
     "output_type": "stream",
     "text": [
      "Early stopping at 85 epochs: Test loss has not improved for 5 consecutive epochs.\n",
      "TRAINING PAIRS\n"
     ]
    },
    {
     "name": "stderr",
     "output_type": "stream",
     "text": [
      "                                                  \r"
     ]
    },
    {
     "name": "stdout",
     "output_type": "stream",
     "text": [
      "Early stopping at 95 epochs: Test loss has not improved for 5 consecutive epochs.\n",
      "SPlIT 4\n",
      "TRAINING MAINS\n"
     ]
    },
    {
     "name": "stderr",
     "output_type": "stream",
     "text": [
      "                                                  \r"
     ]
    },
    {
     "name": "stdout",
     "output_type": "stream",
     "text": [
      "Early stopping at 63 epochs: Test loss has not improved for 5 consecutive epochs.\n",
      "TRAINING PAIRS\n"
     ]
    },
    {
     "name": "stderr",
     "output_type": "stream",
     "text": [
      "                                                  \r"
     ]
    },
    {
     "name": "stdout",
     "output_type": "stream",
     "text": [
      "Early stopping at 81 epochs: Test loss has not improved for 5 consecutive epochs.\n"
     ]
    }
   ],
   "source": [
    "from dnamite.models import DNAMiteRegressor\n",
    "\n",
    "model = DNAMiteRegressor(\n",
    "    n_features=X_train.shape[1],\n",
    "    device=device,\n",
    ")\n",
    "model.fit(X_train, y_train)"
   ]
  },
  {
   "cell_type": "markdown",
   "metadata": {},
   "source": [
    "Let's first check that our model has reasonable predictive accuracy."
   ]
  },
  {
   "cell_type": "code",
   "execution_count": 22,
   "metadata": {},
   "outputs": [
    {
     "name": "stderr",
     "output_type": "stream",
     "text": [
      "                                                "
     ]
    },
    {
     "name": "stdout",
     "output_type": "stream",
     "text": [
      "RMSE: 0.49536391455150003\n"
     ]
    },
    {
     "name": "stderr",
     "output_type": "stream",
     "text": [
      "\r"
     ]
    }
   ],
   "source": [
    "preds = model.predict(X_test)\n",
    "print(f\"RMSE: {np.sqrt(np.mean((preds - y_test)**2))}\")"
   ]
  },
  {
   "cell_type": "markdown",
   "metadata": {},
   "source": [
    "We can now start interpreting our model. First we can look at the top feature importances from the model."
   ]
  },
  {
   "cell_type": "code",
   "execution_count": 9,
   "metadata": {},
   "outputs": [
    {
     "data": {
      "image/png": "[encoded data removed]",
      "text/plain": [
       "<Figure size 600x400 with 1 Axes>"
      ]
     },
     "metadata": {},
     "output_type": "display_data"
    }
   ],
   "source": [
    "model.plot_feature_importances(k=10)"
   ]
  },
  {
   "cell_type": "code",
   "execution_count": 21,
   "metadata": {},
   "outputs": [
    {
     "data": {
      "image/png": "[encoded data removed]",
      "text/plain": [
       "<Figure size 1200x400 with 3 Axes>"
      ]
     },
     "metadata": {},
     "output_type": "display_data"
    }
   ],
   "source": [
    "model.plot_shape_function([\"MedInc\", \"AveOccup\", \"AveRooms\"])"
   ]
  },
  {
   "cell_type": "code",
   "execution_count": 14,
   "metadata": {},
   "outputs": [
    {
     "data": {
      "image/png": "[encoded data removed]",
      "text/plain": [
       "<Figure size 400x400 with 2 Axes>"
      ]
     },
     "metadata": {},
     "output_type": "display_data"
    }
   ],
   "source": [
    "model.plot_pair_shape_function(\"Latitude\", \"Longitude\")"
   ]
  },
  {
   "cell_type": "markdown",
   "metadata": {},
   "source": [
    "## Survival Analysis\n",
    "\n",
    "Now we'll switch gears and train a DNAMite model for survival analysis. Briefly, survival analysis involves predicting the probability that a time-to-event variable $T$ happens before $t$ for all times $t > 0$. See the User Guide for more details on survival analysis. We'll use the flchain dataset from scikit-survival."
   ]
  },
  {
   "cell_type": "code",
   "execution_count": 77,
   "metadata": {},
   "outputs": [],
   "source": [
    "from sksurv.datasets import load_flchain\n",
    "X, y = load_flchain()\n",
    "\n",
    "# Change y dtypes and names\n",
    "y.dtype = np.dtype([('event', '?'), ('time', '<f8')])\n",
    "\n",
    "# # Impute chapter with new category\n",
    "X[\"chapter\"] = X[\"chapter\"].astype(\"category\")\n",
    "X[\"chapter\"] = X[\"chapter\"].cat.add_categories(\"Unknown\")\n",
    "X[\"chapter\"] = X[\"chapter\"].fillna(\"Unknown\")\n",
    "\n",
    "# Clip Training data to avoid overflow errors\n",
    "X[\"creatinine\"] = X[\"creatinine\"].clip(-5, 5)\n",
    "\n",
    "X_train, X_test, y_train, y_test = train_test_split(X, y, test_size=0.2, random_state=10)"
   ]
  },
  {
   "cell_type": "code",
   "execution_count": 78,
   "metadata": {},
   "outputs": [
    {
     "data": {
      "text/html": [
       "<div>\n",
       "<style scoped>\n",
       "    .dataframe tbody tr th:only-of-type {\n",
       "        vertical-align: middle;\n",
       "    }\n",
       "\n",
       "    .dataframe tbody tr th {\n",
       "        vertical-align: top;\n",
       "    }\n",
       "\n",
       "    .dataframe thead th {\n",
       "        text-align: right;\n",
       "    }\n",
       "</style>\n",
       "<table border=\"1\" class=\"dataframe\">\n",
       "  <thead>\n",
       "    <tr style=\"text-align: right;\">\n",
       "      <th></th>\n",
       "      <th>age</th>\n",
       "      <th>chapter</th>\n",
       "      <th>creatinine</th>\n",
       "      <th>flc.grp</th>\n",
       "      <th>kappa</th>\n",
       "      <th>lambda</th>\n",
       "      <th>mgus</th>\n",
       "      <th>sample.yr</th>\n",
       "      <th>sex</th>\n",
       "    </tr>\n",
       "  </thead>\n",
       "  <tbody>\n",
       "    <tr>\n",
       "      <th>5471</th>\n",
       "      <td>56.0</td>\n",
       "      <td>Unknown</td>\n",
       "      <td>0.9</td>\n",
       "      <td>5</td>\n",
       "      <td>1.140</td>\n",
       "      <td>1.450</td>\n",
       "      <td>no</td>\n",
       "      <td>1996</td>\n",
       "      <td>F</td>\n",
       "    </tr>\n",
       "    <tr>\n",
       "      <th>2512</th>\n",
       "      <td>65.0</td>\n",
       "      <td>Unknown</td>\n",
       "      <td>1.2</td>\n",
       "      <td>2</td>\n",
       "      <td>0.828</td>\n",
       "      <td>1.160</td>\n",
       "      <td>no</td>\n",
       "      <td>1997</td>\n",
       "      <td>M</td>\n",
       "    </tr>\n",
       "    <tr>\n",
       "      <th>4242</th>\n",
       "      <td>62.0</td>\n",
       "      <td>Unknown</td>\n",
       "      <td>1.1</td>\n",
       "      <td>9</td>\n",
       "      <td>1.460</td>\n",
       "      <td>2.470</td>\n",
       "      <td>no</td>\n",
       "      <td>2000</td>\n",
       "      <td>F</td>\n",
       "    </tr>\n",
       "    <tr>\n",
       "      <th>810</th>\n",
       "      <td>79.0</td>\n",
       "      <td>Infectious</td>\n",
       "      <td>1.2</td>\n",
       "      <td>9</td>\n",
       "      <td>2.070</td>\n",
       "      <td>1.900</td>\n",
       "      <td>no</td>\n",
       "      <td>1997</td>\n",
       "      <td>M</td>\n",
       "    </tr>\n",
       "    <tr>\n",
       "      <th>1483</th>\n",
       "      <td>70.0</td>\n",
       "      <td>Unknown</td>\n",
       "      <td>NaN</td>\n",
       "      <td>5</td>\n",
       "      <td>1.130</td>\n",
       "      <td>1.530</td>\n",
       "      <td>no</td>\n",
       "      <td>2002</td>\n",
       "      <td>F</td>\n",
       "    </tr>\n",
       "    <tr>\n",
       "      <th>...</th>\n",
       "      <td>...</td>\n",
       "      <td>...</td>\n",
       "      <td>...</td>\n",
       "      <td>...</td>\n",
       "      <td>...</td>\n",
       "      <td>...</td>\n",
       "      <td>...</td>\n",
       "      <td>...</td>\n",
       "      <td>...</td>\n",
       "    </tr>\n",
       "    <tr>\n",
       "      <th>3441</th>\n",
       "      <td>67.0</td>\n",
       "      <td>Unknown</td>\n",
       "      <td>1.0</td>\n",
       "      <td>1</td>\n",
       "      <td>0.316</td>\n",
       "      <td>0.972</td>\n",
       "      <td>no</td>\n",
       "      <td>1996</td>\n",
       "      <td>F</td>\n",
       "    </tr>\n",
       "    <tr>\n",
       "      <th>1344</th>\n",
       "      <td>76.0</td>\n",
       "      <td>Circulatory</td>\n",
       "      <td>1.1</td>\n",
       "      <td>5</td>\n",
       "      <td>1.500</td>\n",
       "      <td>1.300</td>\n",
       "      <td>no</td>\n",
       "      <td>2001</td>\n",
       "      <td>F</td>\n",
       "    </tr>\n",
       "    <tr>\n",
       "      <th>4623</th>\n",
       "      <td>62.0</td>\n",
       "      <td>Unknown</td>\n",
       "      <td>1.1</td>\n",
       "      <td>8</td>\n",
       "      <td>1.840</td>\n",
       "      <td>1.920</td>\n",
       "      <td>no</td>\n",
       "      <td>1996</td>\n",
       "      <td>F</td>\n",
       "    </tr>\n",
       "    <tr>\n",
       "      <th>7293</th>\n",
       "      <td>52.0</td>\n",
       "      <td>Unknown</td>\n",
       "      <td>0.9</td>\n",
       "      <td>2</td>\n",
       "      <td>0.877</td>\n",
       "      <td>0.946</td>\n",
       "      <td>no</td>\n",
       "      <td>1996</td>\n",
       "      <td>F</td>\n",
       "    </tr>\n",
       "    <tr>\n",
       "      <th>1289</th>\n",
       "      <td>77.0</td>\n",
       "      <td>Neoplasms</td>\n",
       "      <td>1.2</td>\n",
       "      <td>1</td>\n",
       "      <td>0.390</td>\n",
       "      <td>1.060</td>\n",
       "      <td>no</td>\n",
       "      <td>1996</td>\n",
       "      <td>F</td>\n",
       "    </tr>\n",
       "  </tbody>\n",
       "</table>\n",
       "<p>6299 rows × 9 columns</p>\n",
       "</div>"
      ],
      "text/plain": [
       "       age      chapter  creatinine flc.grp  kappa  lambda mgus sample.yr sex\n",
       "5471  56.0      Unknown         0.9       5  1.140   1.450   no      1996   F\n",
       "2512  65.0      Unknown         1.2       2  0.828   1.160   no      1997   M\n",
       "4242  62.0      Unknown         1.1       9  1.460   2.470   no      2000   F\n",
       "810   79.0   Infectious         1.2       9  2.070   1.900   no      1997   M\n",
       "1483  70.0      Unknown         NaN       5  1.130   1.530   no      2002   F\n",
       "...    ...          ...         ...     ...    ...     ...  ...       ...  ..\n",
       "3441  67.0      Unknown         1.0       1  0.316   0.972   no      1996   F\n",
       "1344  76.0  Circulatory         1.1       5  1.500   1.300   no      2001   F\n",
       "4623  62.0      Unknown         1.1       8  1.840   1.920   no      1996   F\n",
       "7293  52.0      Unknown         0.9       2  0.877   0.946   no      1996   F\n",
       "1289  77.0    Neoplasms         1.2       1  0.390   1.060   no      1996   F\n",
       "\n",
       "[6299 rows x 9 columns]"
      ]
     },
     "execution_count": 78,
     "metadata": {},
     "output_type": "execute_result"
    }
   ],
   "source": [
    "X_train"
   ]
  },
  {
   "cell_type": "markdown",
   "metadata": {},
   "source": [
    "Fitting a DNAMite model for survival analysis is very similar to fitting a DNAMite regression model. "
   ]
  },
  {
   "cell_type": "code",
   "execution_count": 85,
   "metadata": {},
   "outputs": [
    {
     "name": "stdout",
     "output_type": "stream",
     "text": [
      "SPlIT 0\n",
      "TRAINING MAINS\n"
     ]
    },
    {
     "name": "stderr",
     "output_type": "stream",
     "text": [
      "                                                \r"
     ]
    },
    {
     "name": "stdout",
     "output_type": "stream",
     "text": [
      "Early stopping at 58 epochs: Test loss has not improved for 5 consecutive epochs.\n",
      "Didn't find selected pair indices. Selecting all pairs.\n",
      "TRAINING PAIRS\n"
     ]
    },
    {
     "name": "stderr",
     "output_type": "stream",
     "text": [
      "                                                \r"
     ]
    },
    {
     "name": "stdout",
     "output_type": "stream",
     "text": [
      "Early stopping at 6 epochs: Test loss has not improved for 5 consecutive epochs.\n",
      "SPlIT 1\n",
      "TRAINING MAINS\n"
     ]
    },
    {
     "name": "stderr",
     "output_type": "stream",
     "text": [
      "                                                \r"
     ]
    },
    {
     "name": "stdout",
     "output_type": "stream",
     "text": [
      "TRAINING PAIRS\n"
     ]
    },
    {
     "name": "stderr",
     "output_type": "stream",
     "text": [
      "                                                \r"
     ]
    },
    {
     "name": "stdout",
     "output_type": "stream",
     "text": [
      "Early stopping at 89 epochs: Test loss has not improved for 5 consecutive epochs.\n",
      "SPlIT 2\n",
      "TRAINING MAINS\n"
     ]
    },
    {
     "name": "stderr",
     "output_type": "stream",
     "text": [
      "                                                \r"
     ]
    },
    {
     "name": "stdout",
     "output_type": "stream",
     "text": [
      "Early stopping at 57 epochs: Test loss has not improved for 5 consecutive epochs.\n",
      "TRAINING PAIRS\n"
     ]
    },
    {
     "name": "stderr",
     "output_type": "stream",
     "text": [
      "                                                \r"
     ]
    },
    {
     "name": "stdout",
     "output_type": "stream",
     "text": [
      "Early stopping at 74 epochs: Test loss has not improved for 5 consecutive epochs.\n",
      "SPlIT 3\n",
      "TRAINING MAINS\n"
     ]
    },
    {
     "name": "stderr",
     "output_type": "stream",
     "text": [
      "                                                \r"
     ]
    },
    {
     "name": "stdout",
     "output_type": "stream",
     "text": [
      "TRAINING PAIRS\n"
     ]
    },
    {
     "name": "stderr",
     "output_type": "stream",
     "text": [
      "                                                \r"
     ]
    },
    {
     "name": "stdout",
     "output_type": "stream",
     "text": [
      "Early stopping at 6 epochs: Test loss has not improved for 5 consecutive epochs.\n",
      "SPlIT 4\n",
      "TRAINING MAINS\n"
     ]
    },
    {
     "name": "stderr",
     "output_type": "stream",
     "text": [
      "                                                \r"
     ]
    },
    {
     "name": "stdout",
     "output_type": "stream",
     "text": [
      "Early stopping at 87 epochs: Test loss has not improved for 5 consecutive epochs.\n",
      "TRAINING PAIRS\n"
     ]
    },
    {
     "name": "stderr",
     "output_type": "stream",
     "text": [
      "                                                \r"
     ]
    },
    {
     "name": "stdout",
     "output_type": "stream",
     "text": [
      "Early stopping at 6 epochs: Test loss has not improved for 5 consecutive epochs.\n"
     ]
    }
   ],
   "source": [
    "from dnamite.models import DNAMiteSurvival\n",
    "\n",
    "model = DNAMiteSurvival(\n",
    "    n_features=X_train.shape[1],\n",
    "    device=device,\n",
    ")\n",
    "model.fit(X_train, y_train)"
   ]
  },
  {
   "cell_type": "code",
   "execution_count": 86,
   "metadata": {},
   "outputs": [],
   "source": [
    "from sksurv.metrics import cumulative_dynamic_auc, concordance_index_censored\n",
    "\n",
    "def get_auc(surv_preds, y_train, y_test, eval_times):\n",
    "    test_times = np.linspace(\n",
    "        max(y_train[\"time\"].min(), y_test[y_test[\"event\"] > 0][\"time\"].min()) + 1e-4,\n",
    "        min(y_train[\"time\"].max(), y_test[y_test[\"event\"] > 0][\"time\"].max()) - 1e-4,\n",
    "        1000\n",
    "    )\n",
    "    \n",
    "    surv_preds = surv_preds[\n",
    "        :, \n",
    "        np.clip(\n",
    "            np.searchsorted(eval_times.cpu().numpy(), test_times),\n",
    "            0, surv_preds.shape[1]-1\n",
    "        )\n",
    "    ]\n",
    "    risk_preds = -1 * np.log(np.clip(surv_preds, 1e-5, 10 - 1e-5))\n",
    "    # Get time-dependent AUC\n",
    "    _, mean_auc = cumulative_dynamic_auc(y_train, y_test, risk_preds, test_times)\n",
    "    \n",
    "    return mean_auc"
   ]
  },
  {
   "cell_type": "code",
   "execution_count": 87,
   "metadata": {},
   "outputs": [
    {
     "name": "stderr",
     "output_type": "stream",
     "text": [
      "                                      \r"
     ]
    },
    {
     "data": {
      "text/plain": [
       "0.9493571365812357"
      ]
     },
     "execution_count": 87,
     "metadata": {},
     "output_type": "execute_result"
    }
   ],
   "source": [
    "# After fixing categorical features\n",
    "def sigmoid(x):\n",
    "    return 1 / (1 + np.exp(-x))\n",
    "\n",
    "test_preds = model.predict(X_test)\n",
    "surv_preds = 1 - sigmoid(test_preds)\n",
    "auc = get_auc(surv_preds, y_train, y_test, model.eval_times)\n",
    "auc"
   ]
  },
  {
   "cell_type": "code",
   "execution_count": 88,
   "metadata": {},
   "outputs": [
    {
     "data": {
      "image/png": "[encoded data removed]",
      "text/plain": [
       "<Figure size 600x400 with 1 Axes>"
      ]
     },
     "metadata": {},
     "output_type": "display_data"
    }
   ],
   "source": [
    "model.plot_feature_importances(k=10, eval_time=365*5)"
   ]
  },
  {
   "cell_type": "code",
   "execution_count": 48,
   "metadata": {},
   "outputs": [
    {
     "data": {
      "text/plain": [
       "chapter\n",
       "Unknown                 5705\n",
       "Circulatory              745\n",
       "Neoplasms                567\n",
       "Respiratory              245\n",
       "Mental                   144\n",
       "Nervous                  130\n",
       "Digestive                 66\n",
       "External Causes           66\n",
       "Endocrine                 48\n",
       "Genitourinary             42\n",
       "Ill Defined               38\n",
       "Infectious                32\n",
       "Injury and Poisoning      21\n",
       "Musculoskeletal           14\n",
       "Skin                       4\n",
       "Blood                      4\n",
       "Congenital                 3\n",
       "Name: count, dtype: int64"
      ]
     },
     "execution_count": 48,
     "metadata": {},
     "output_type": "execute_result"
    }
   ],
   "source": [
    "X[\"chapter\"].value_counts()"
   ]
  },
  {
   "cell_type": "code",
   "execution_count": 55,
   "metadata": {},
   "outputs": [
    {
     "data": {
      "text/html": [
       "<div>\n",
       "<style scoped>\n",
       "    .dataframe tbody tr th:only-of-type {\n",
       "        vertical-align: middle;\n",
       "    }\n",
       "\n",
       "    .dataframe tbody tr th {\n",
       "        vertical-align: top;\n",
       "    }\n",
       "\n",
       "    .dataframe thead th {\n",
       "        text-align: right;\n",
       "    }\n",
       "</style>\n",
       "<table border=\"1\" class=\"dataframe\">\n",
       "  <thead>\n",
       "    <tr style=\"text-align: right;\">\n",
       "      <th></th>\n",
       "      <th>input</th>\n",
       "      <th>output</th>\n",
       "    </tr>\n",
       "  </thead>\n",
       "  <tbody>\n",
       "    <tr>\n",
       "      <th>0</th>\n",
       "      <td>Blood</td>\n",
       "      <td>0</td>\n",
       "    </tr>\n",
       "    <tr>\n",
       "      <th>1</th>\n",
       "      <td>Circulatory</td>\n",
       "      <td>1</td>\n",
       "    </tr>\n",
       "    <tr>\n",
       "      <th>2</th>\n",
       "      <td>Congenital</td>\n",
       "      <td>2</td>\n",
       "    </tr>\n",
       "    <tr>\n",
       "      <th>3</th>\n",
       "      <td>Digestive</td>\n",
       "      <td>3</td>\n",
       "    </tr>\n",
       "    <tr>\n",
       "      <th>4</th>\n",
       "      <td>Endocrine</td>\n",
       "      <td>4</td>\n",
       "    </tr>\n",
       "    <tr>\n",
       "      <th>5</th>\n",
       "      <td>External Causes</td>\n",
       "      <td>5</td>\n",
       "    </tr>\n",
       "    <tr>\n",
       "      <th>6</th>\n",
       "      <td>Genitourinary</td>\n",
       "      <td>6</td>\n",
       "    </tr>\n",
       "    <tr>\n",
       "      <th>7</th>\n",
       "      <td>Ill Defined</td>\n",
       "      <td>7</td>\n",
       "    </tr>\n",
       "    <tr>\n",
       "      <th>8</th>\n",
       "      <td>Infectious</td>\n",
       "      <td>8</td>\n",
       "    </tr>\n",
       "    <tr>\n",
       "      <th>9</th>\n",
       "      <td>Injury and Poisoning</td>\n",
       "      <td>9</td>\n",
       "    </tr>\n",
       "    <tr>\n",
       "      <th>10</th>\n",
       "      <td>Mental</td>\n",
       "      <td>10</td>\n",
       "    </tr>\n",
       "    <tr>\n",
       "      <th>11</th>\n",
       "      <td>Musculoskeletal</td>\n",
       "      <td>11</td>\n",
       "    </tr>\n",
       "    <tr>\n",
       "      <th>12</th>\n",
       "      <td>Neoplasms</td>\n",
       "      <td>12</td>\n",
       "    </tr>\n",
       "    <tr>\n",
       "      <th>13</th>\n",
       "      <td>Nervous</td>\n",
       "      <td>13</td>\n",
       "    </tr>\n",
       "    <tr>\n",
       "      <th>14</th>\n",
       "      <td>Respiratory</td>\n",
       "      <td>14</td>\n",
       "    </tr>\n",
       "    <tr>\n",
       "      <th>15</th>\n",
       "      <td>Skin</td>\n",
       "      <td>15</td>\n",
       "    </tr>\n",
       "    <tr>\n",
       "      <th>16</th>\n",
       "      <td>Unknown</td>\n",
       "      <td>16</td>\n",
       "    </tr>\n",
       "  </tbody>\n",
       "</table>\n",
       "</div>"
      ],
      "text/plain": [
       "                   input  output\n",
       "0                  Blood       0\n",
       "1            Circulatory       1\n",
       "2             Congenital       2\n",
       "3              Digestive       3\n",
       "4              Endocrine       4\n",
       "5        External Causes       5\n",
       "6          Genitourinary       6\n",
       "7            Ill Defined       7\n",
       "8             Infectious       8\n",
       "9   Injury and Poisoning       9\n",
       "10                Mental      10\n",
       "11       Musculoskeletal      11\n",
       "12             Neoplasms      12\n",
       "13               Nervous      13\n",
       "14           Respiratory      14\n",
       "15                  Skin      15\n",
       "16               Unknown      16"
      ]
     },
     "execution_count": 55,
     "metadata": {},
     "output_type": "execute_result"
    }
   ],
   "source": [
    "ord_encoder = model.preprocessor.transformers_[0][1]\n",
    "feat_index = np.where(ord_encoder.feature_names_in_ == \"chapter\")[0][0]\n",
    "pd.DataFrame({\n",
    "    \"input\": ord_encoder.categories_[feat_index],\n",
    "    \"output\": np.arange(len(ord_encoder.categories_[feat_index]))\n",
    "})"
   ]
  },
  {
   "cell_type": "code",
   "execution_count": 69,
   "metadata": {},
   "outputs": [
    {
     "data": {
      "text/plain": [
       "array([ 0.5,  1.5,  2.5,  3.5,  4.5,  5.5,  6.5,  7.5,  9.5, 10.5, 11.5,\n",
       "       12.5, 13.5, 14.5, 15.5])"
      ]
     },
     "execution_count": 69,
     "metadata": {},
     "output_type": "execute_result"
    }
   ],
   "source": [
    "col_index = model.models[0].feature_names_in_.get_loc(\"chapter\")\n",
    "model.models[0].feature_bins[col_index]"
   ]
  },
  {
   "cell_type": "code",
   "execution_count": 76,
   "metadata": {},
   "outputs": [
    {
     "name": "stdout",
     "output_type": "stream",
     "text": [
      "0        1.0\n",
      "1       12.0\n",
      "2        1.0\n",
      "3        1.0\n",
      "4        1.0\n",
      "        ... \n",
      "7869    16.0\n",
      "7870    16.0\n",
      "7871    16.0\n",
      "7872    16.0\n",
      "7873    16.0\n",
      "Name: chapter, Length: 7874, dtype: float64\n"
     ]
    },
    {
     "data": {
      "text/plain": [
       "(array([ 2, 11,  2, ..., 15, 15, 15]),\n",
       " array([ 0.5,  1.5,  3.5,  4.5,  5.5,  6.5,  7.5,  9.5, 10.5, 11.5, 12.5,\n",
       "        13.5, 14.5, 15.5]))"
      ]
     },
     "execution_count": 76,
     "metadata": {},
     "output_type": "execute_result"
    }
   ],
   "source": [
    "print(model.preprocess_data(X)[\"chapter\"])\n",
    "\n",
    "from dnamite.utils import discretize\n",
    "discretize(model.preprocess_data(X)[\"chapter\"], max_bins=32)"
   ]
  },
  {
   "cell_type": "code",
   "execution_count": 60,
   "metadata": {},
   "outputs": [
    {
     "ename": "ValueError",
     "evalue": "Cannot cast object dtype to float64",
     "output_type": "error",
     "traceback": [
      "\u001b[0;31m---------------------------------------------------------------------------\u001b[0m",
      "\u001b[0;31mValueError\u001b[0m                                Traceback (most recent call last)",
      "File \u001b[0;32m~/.venvs/default/lib/python3.10/site-packages/pandas/core/arrays/categorical.py:591\u001b[0m, in \u001b[0;36mCategorical.astype\u001b[0;34m(self, dtype, copy)\u001b[0m\n\u001b[1;32m    590\u001b[0m \u001b[38;5;28;01mtry\u001b[39;00m:\n\u001b[0;32m--> 591\u001b[0m     new_cats \u001b[38;5;241m=\u001b[39m \u001b[43mnew_cats\u001b[49m\u001b[38;5;241;43m.\u001b[39;49m\u001b[43mastype\u001b[49m\u001b[43m(\u001b[49m\u001b[43mdtype\u001b[49m\u001b[38;5;241;43m=\u001b[39;49m\u001b[43mdtype\u001b[49m\u001b[43m,\u001b[49m\u001b[43m \u001b[49m\u001b[43mcopy\u001b[49m\u001b[38;5;241;43m=\u001b[39;49m\u001b[43mcopy\u001b[49m\u001b[43m)\u001b[49m\n\u001b[1;32m    592\u001b[0m     fill_value \u001b[38;5;241m=\u001b[39m \u001b[38;5;28mself\u001b[39m\u001b[38;5;241m.\u001b[39mcategories\u001b[38;5;241m.\u001b[39m_na_value\n",
      "\u001b[0;31mValueError\u001b[0m: could not convert string to float: 'Blood'",
      "\nDuring handling of the above exception, another exception occurred:\n",
      "\u001b[0;31mValueError\u001b[0m                                Traceback (most recent call last)",
      "Cell \u001b[0;32mIn[60], line 2\u001b[0m\n\u001b[1;32m      1\u001b[0m \u001b[38;5;28;01mfrom\u001b[39;00m \u001b[38;5;21;01mdnamite\u001b[39;00m\u001b[38;5;21;01m.\u001b[39;00m\u001b[38;5;21;01mutils\u001b[39;00m \u001b[38;5;28;01mimport\u001b[39;00m discretize\n\u001b[0;32m----> 2\u001b[0m \u001b[43mdiscretize\u001b[49m\u001b[43m(\u001b[49m\u001b[43mX\u001b[49m\u001b[43m[\u001b[49m\u001b[38;5;124;43m\"\u001b[39;49m\u001b[38;5;124;43mchapter\u001b[39;49m\u001b[38;5;124;43m\"\u001b[39;49m\u001b[43m]\u001b[49m\u001b[43m,\u001b[49m\u001b[43m \u001b[49m\u001b[43mmax_bins\u001b[49m\u001b[38;5;241;43m=\u001b[39;49m\u001b[38;5;241;43m10\u001b[39;49m\u001b[43m)\u001b[49m\n",
      "File \u001b[0;32m~/dnamite/public_repo/dnamite/dnamite/utils/utils.py:24\u001b[0m, in \u001b[0;36mdiscretize\u001b[0;34m(x, max_bins, bins)\u001b[0m\n\u001b[1;32m     22\u001b[0m \u001b[38;5;66;03m# Convert to float if not float\u001b[39;00m\n\u001b[1;32m     23\u001b[0m \u001b[38;5;28;01mif\u001b[39;00m x\u001b[38;5;241m.\u001b[39mdtype \u001b[38;5;241m!=\u001b[39m np\u001b[38;5;241m.\u001b[39mfloat64:\n\u001b[0;32m---> 24\u001b[0m     x \u001b[38;5;241m=\u001b[39m \u001b[43mx\u001b[49m\u001b[38;5;241;43m.\u001b[39;49m\u001b[43mastype\u001b[49m\u001b[43m(\u001b[49m\u001b[43mnp\u001b[49m\u001b[38;5;241;43m.\u001b[39;49m\u001b[43mfloat64\u001b[49m\u001b[43m)\u001b[49m\n\u001b[1;32m     26\u001b[0m \u001b[38;5;66;03m# Get \"native\" from interpret package\u001b[39;00m\n\u001b[1;32m     27\u001b[0m native \u001b[38;5;241m=\u001b[39m Native\u001b[38;5;241m.\u001b[39mget_native_singleton()\n",
      "File \u001b[0;32m~/.venvs/default/lib/python3.10/site-packages/pandas/core/arrays/categorical.py:602\u001b[0m, in \u001b[0;36mCategorical.astype\u001b[0;34m(self, dtype, copy)\u001b[0m\n\u001b[1;32m    597\u001b[0m     \u001b[38;5;28;01mexcept\u001b[39;00m (\n\u001b[1;32m    598\u001b[0m         \u001b[38;5;167;01mTypeError\u001b[39;00m,  \u001b[38;5;66;03m# downstream error msg for CategoricalIndex is misleading\u001b[39;00m\n\u001b[1;32m    599\u001b[0m         \u001b[38;5;167;01mValueError\u001b[39;00m,\n\u001b[1;32m    600\u001b[0m     ):\n\u001b[1;32m    601\u001b[0m         msg \u001b[38;5;241m=\u001b[39m \u001b[38;5;124mf\u001b[39m\u001b[38;5;124m\"\u001b[39m\u001b[38;5;124mCannot cast \u001b[39m\u001b[38;5;132;01m{\u001b[39;00m\u001b[38;5;28mself\u001b[39m\u001b[38;5;241m.\u001b[39mcategories\u001b[38;5;241m.\u001b[39mdtype\u001b[38;5;132;01m}\u001b[39;00m\u001b[38;5;124m dtype to \u001b[39m\u001b[38;5;132;01m{\u001b[39;00mdtype\u001b[38;5;132;01m}\u001b[39;00m\u001b[38;5;124m\"\u001b[39m\n\u001b[0;32m--> 602\u001b[0m         \u001b[38;5;28;01mraise\u001b[39;00m \u001b[38;5;167;01mValueError\u001b[39;00m(msg)\n\u001b[1;32m    604\u001b[0m     result \u001b[38;5;241m=\u001b[39m take_nd(\n\u001b[1;32m    605\u001b[0m         new_cats, ensure_platform_int(\u001b[38;5;28mself\u001b[39m\u001b[38;5;241m.\u001b[39m_codes), fill_value\u001b[38;5;241m=\u001b[39mfill_value\n\u001b[1;32m    606\u001b[0m     )\n\u001b[1;32m    608\u001b[0m \u001b[38;5;28;01mreturn\u001b[39;00m result\n",
      "\u001b[0;31mValueError\u001b[0m: Cannot cast object dtype to float64"
     ]
    }
   ],
   "source": [
    "from dnamite.utils import discretize\n",
    "discretize(X[\"chapter\"], max_bins=10)"
   ]
  },
  {
   "cell_type": "code",
   "execution_count": 92,
   "metadata": {},
   "outputs": [
    {
     "name": "stdout",
     "output_type": "stream",
     "text": [
      "FEAT BIN VALUE FOR MODEL 0 : ['NA', 'Blood', 'Circulatory', 'Congenital', 'Digestive', 'Endocrine', 'External Causes', 'Genitourinary', 'Ill Defined', 'Infectious', 'Injury and Poisoning', 'Mental', 'Musculoskeletal', 'Neoplasms', 'Nervous', 'Respiratory', 'Skin', 'Unknown']\n",
      "FEAT BIN VALUE FOR MODEL 1 : ['NA', 'Blood', 'Circulatory', 'Congenital', 'Digestive', 'Endocrine', 'External Causes', 'Genitourinary', 'Ill Defined', 'Infectious', 'Injury and Poisoning', 'Mental', 'Musculoskeletal', 'Neoplasms', 'Nervous', 'Respiratory', 'Skin', 'Unknown']\n",
      "FEAT BIN VALUE FOR MODEL 2 : ['NA', 'Blood', 'Circulatory', 'Congenital', 'Digestive', 'Endocrine', 'External Causes', 'Genitourinary', 'Ill Defined', 'Infectious', 'Injury and Poisoning', 'Mental', 'Musculoskeletal', 'Neoplasms', 'Nervous', 'Respiratory', 'Skin', 'Unknown']\n",
      "FEAT BIN VALUE FOR MODEL 3 : ['NA', 'Blood', 'Circulatory', 'Congenital', 'Digestive', 'Endocrine', 'External Causes', 'Genitourinary', 'Ill Defined', 'Infectious', 'Injury and Poisoning', 'Mental', 'Musculoskeletal', 'Neoplasms', 'Nervous', 'Respiratory', 'Skin', 'Unknown']\n",
      "FEAT BIN VALUE FOR MODEL 4 : ['NA', 'Blood', 'Circulatory', 'Congenital', 'Digestive', 'Endocrine', 'External Causes', 'Genitourinary', 'Ill Defined', 'Infectious', 'Injury and Poisoning', 'Mental', 'Musculoskeletal', 'Neoplasms', 'Nervous', 'Respiratory', 'Skin', 'Unknown']\n"
     ]
    },
    {
     "data": {
      "text/html": [
       "<div>\n",
       "<style scoped>\n",
       "    .dataframe tbody tr th:only-of-type {\n",
       "        vertical-align: middle;\n",
       "    }\n",
       "\n",
       "    .dataframe tbody tr th {\n",
       "        vertical-align: top;\n",
       "    }\n",
       "\n",
       "    .dataframe thead th {\n",
       "        text-align: right;\n",
       "    }\n",
       "</style>\n",
       "<table border=\"1\" class=\"dataframe\">\n",
       "  <thead>\n",
       "    <tr style=\"text-align: right;\">\n",
       "      <th></th>\n",
       "      <th>feature</th>\n",
       "      <th>bin</th>\n",
       "      <th>score</th>\n",
       "      <th>count</th>\n",
       "      <th>split</th>\n",
       "    </tr>\n",
       "  </thead>\n",
       "  <tbody>\n",
       "    <tr>\n",
       "      <th>0</th>\n",
       "      <td>chapter</td>\n",
       "      <td>NA</td>\n",
       "      <td>1.683809</td>\n",
       "      <td>0.0</td>\n",
       "      <td>0</td>\n",
       "    </tr>\n",
       "    <tr>\n",
       "      <th>1</th>\n",
       "      <td>chapter</td>\n",
       "      <td>Blood</td>\n",
       "      <td>2.417068</td>\n",
       "      <td>1.0</td>\n",
       "      <td>0</td>\n",
       "    </tr>\n",
       "    <tr>\n",
       "      <th>2</th>\n",
       "      <td>chapter</td>\n",
       "      <td>Circulatory</td>\n",
       "      <td>3.274346</td>\n",
       "      <td>478.0</td>\n",
       "      <td>0</td>\n",
       "    </tr>\n",
       "    <tr>\n",
       "      <th>3</th>\n",
       "      <td>chapter</td>\n",
       "      <td>Congenital</td>\n",
       "      <td>3.770434</td>\n",
       "      <td>1.0</td>\n",
       "      <td>0</td>\n",
       "    </tr>\n",
       "    <tr>\n",
       "      <th>4</th>\n",
       "      <td>chapter</td>\n",
       "      <td>Digestive</td>\n",
       "      <td>3.513638</td>\n",
       "      <td>41.0</td>\n",
       "      <td>0</td>\n",
       "    </tr>\n",
       "    <tr>\n",
       "      <th>5</th>\n",
       "      <td>chapter</td>\n",
       "      <td>Endocrine</td>\n",
       "      <td>3.350843</td>\n",
       "      <td>31.0</td>\n",
       "      <td>0</td>\n",
       "    </tr>\n",
       "    <tr>\n",
       "      <th>6</th>\n",
       "      <td>chapter</td>\n",
       "      <td>External Causes</td>\n",
       "      <td>3.349609</td>\n",
       "      <td>43.0</td>\n",
       "      <td>0</td>\n",
       "    </tr>\n",
       "    <tr>\n",
       "      <th>7</th>\n",
       "      <td>chapter</td>\n",
       "      <td>Genitourinary</td>\n",
       "      <td>2.771673</td>\n",
       "      <td>27.0</td>\n",
       "      <td>0</td>\n",
       "    </tr>\n",
       "    <tr>\n",
       "      <th>8</th>\n",
       "      <td>chapter</td>\n",
       "      <td>Ill Defined</td>\n",
       "      <td>2.378489</td>\n",
       "      <td>24.0</td>\n",
       "      <td>0</td>\n",
       "    </tr>\n",
       "    <tr>\n",
       "      <th>9</th>\n",
       "      <td>chapter</td>\n",
       "      <td>Infectious</td>\n",
       "      <td>2.894842</td>\n",
       "      <td>19.0</td>\n",
       "      <td>0</td>\n",
       "    </tr>\n",
       "    <tr>\n",
       "      <th>10</th>\n",
       "      <td>chapter</td>\n",
       "      <td>Injury and Poisoning</td>\n",
       "      <td>3.252288</td>\n",
       "      <td>14.0</td>\n",
       "      <td>0</td>\n",
       "    </tr>\n",
       "    <tr>\n",
       "      <th>11</th>\n",
       "      <td>chapter</td>\n",
       "      <td>Mental</td>\n",
       "      <td>2.932703</td>\n",
       "      <td>92.0</td>\n",
       "      <td>0</td>\n",
       "    </tr>\n",
       "    <tr>\n",
       "      <th>12</th>\n",
       "      <td>chapter</td>\n",
       "      <td>Musculoskeletal</td>\n",
       "      <td>2.878464</td>\n",
       "      <td>9.0</td>\n",
       "      <td>0</td>\n",
       "    </tr>\n",
       "    <tr>\n",
       "      <th>13</th>\n",
       "      <td>chapter</td>\n",
       "      <td>Neoplasms</td>\n",
       "      <td>3.293172</td>\n",
       "      <td>358.0</td>\n",
       "      <td>0</td>\n",
       "    </tr>\n",
       "    <tr>\n",
       "      <th>14</th>\n",
       "      <td>chapter</td>\n",
       "      <td>Nervous</td>\n",
       "      <td>3.565171</td>\n",
       "      <td>89.0</td>\n",
       "      <td>0</td>\n",
       "    </tr>\n",
       "    <tr>\n",
       "      <th>15</th>\n",
       "      <td>chapter</td>\n",
       "      <td>Respiratory</td>\n",
       "      <td>3.186646</td>\n",
       "      <td>160.0</td>\n",
       "      <td>0</td>\n",
       "    </tr>\n",
       "    <tr>\n",
       "      <th>16</th>\n",
       "      <td>chapter</td>\n",
       "      <td>Skin</td>\n",
       "      <td>1.899246</td>\n",
       "      <td>3.0</td>\n",
       "      <td>0</td>\n",
       "    </tr>\n",
       "    <tr>\n",
       "      <th>17</th>\n",
       "      <td>chapter</td>\n",
       "      <td>Unknown</td>\n",
       "      <td>-1.234113</td>\n",
       "      <td>3649.0</td>\n",
       "      <td>0</td>\n",
       "    </tr>\n",
       "    <tr>\n",
       "      <th>0</th>\n",
       "      <td>chapter</td>\n",
       "      <td>NA</td>\n",
       "      <td>2.679513</td>\n",
       "      <td>0.0</td>\n",
       "      <td>1</td>\n",
       "    </tr>\n",
       "    <tr>\n",
       "      <th>1</th>\n",
       "      <td>chapter</td>\n",
       "      <td>Blood</td>\n",
       "      <td>3.345057</td>\n",
       "      <td>0.0</td>\n",
       "      <td>1</td>\n",
       "    </tr>\n",
       "    <tr>\n",
       "      <th>2</th>\n",
       "      <td>chapter</td>\n",
       "      <td>Circulatory</td>\n",
       "      <td>3.802426</td>\n",
       "      <td>456.0</td>\n",
       "      <td>1</td>\n",
       "    </tr>\n",
       "    <tr>\n",
       "      <th>3</th>\n",
       "      <td>chapter</td>\n",
       "      <td>Congenital</td>\n",
       "      <td>4.020851</td>\n",
       "      <td>1.0</td>\n",
       "      <td>1</td>\n",
       "    </tr>\n",
       "    <tr>\n",
       "      <th>4</th>\n",
       "      <td>chapter</td>\n",
       "      <td>Digestive</td>\n",
       "      <td>4.004915</td>\n",
       "      <td>38.0</td>\n",
       "      <td>1</td>\n",
       "    </tr>\n",
       "    <tr>\n",
       "      <th>5</th>\n",
       "      <td>chapter</td>\n",
       "      <td>Endocrine</td>\n",
       "      <td>3.711327</td>\n",
       "      <td>28.0</td>\n",
       "      <td>1</td>\n",
       "    </tr>\n",
       "    <tr>\n",
       "      <th>6</th>\n",
       "      <td>chapter</td>\n",
       "      <td>External Causes</td>\n",
       "      <td>3.570727</td>\n",
       "      <td>46.0</td>\n",
       "      <td>1</td>\n",
       "    </tr>\n",
       "    <tr>\n",
       "      <th>7</th>\n",
       "      <td>chapter</td>\n",
       "      <td>Genitourinary</td>\n",
       "      <td>3.225902</td>\n",
       "      <td>28.0</td>\n",
       "      <td>1</td>\n",
       "    </tr>\n",
       "    <tr>\n",
       "      <th>8</th>\n",
       "      <td>chapter</td>\n",
       "      <td>Ill Defined</td>\n",
       "      <td>2.907526</td>\n",
       "      <td>26.0</td>\n",
       "      <td>1</td>\n",
       "    </tr>\n",
       "    <tr>\n",
       "      <th>9</th>\n",
       "      <td>chapter</td>\n",
       "      <td>Infectious</td>\n",
       "      <td>3.096485</td>\n",
       "      <td>20.0</td>\n",
       "      <td>1</td>\n",
       "    </tr>\n",
       "    <tr>\n",
       "      <th>10</th>\n",
       "      <td>chapter</td>\n",
       "      <td>Injury and Poisoning</td>\n",
       "      <td>3.376318</td>\n",
       "      <td>12.0</td>\n",
       "      <td>1</td>\n",
       "    </tr>\n",
       "    <tr>\n",
       "      <th>11</th>\n",
       "      <td>chapter</td>\n",
       "      <td>Mental</td>\n",
       "      <td>3.510636</td>\n",
       "      <td>99.0</td>\n",
       "      <td>1</td>\n",
       "    </tr>\n",
       "  </tbody>\n",
       "</table>\n",
       "</div>"
      ],
      "text/plain": [
       "    feature                   bin     score   count  split\n",
       "0   chapter                    NA  1.683809     0.0      0\n",
       "1   chapter                 Blood  2.417068     1.0      0\n",
       "2   chapter           Circulatory  3.274346   478.0      0\n",
       "3   chapter            Congenital  3.770434     1.0      0\n",
       "4   chapter             Digestive  3.513638    41.0      0\n",
       "5   chapter             Endocrine  3.350843    31.0      0\n",
       "6   chapter       External Causes  3.349609    43.0      0\n",
       "7   chapter         Genitourinary  2.771673    27.0      0\n",
       "8   chapter           Ill Defined  2.378489    24.0      0\n",
       "9   chapter            Infectious  2.894842    19.0      0\n",
       "10  chapter  Injury and Poisoning  3.252288    14.0      0\n",
       "11  chapter                Mental  2.932703    92.0      0\n",
       "12  chapter       Musculoskeletal  2.878464     9.0      0\n",
       "13  chapter             Neoplasms  3.293172   358.0      0\n",
       "14  chapter               Nervous  3.565171    89.0      0\n",
       "15  chapter           Respiratory  3.186646   160.0      0\n",
       "16  chapter                  Skin  1.899246     3.0      0\n",
       "17  chapter               Unknown -1.234113  3649.0      0\n",
       "0   chapter                    NA  2.679513     0.0      1\n",
       "1   chapter                 Blood  3.345057     0.0      1\n",
       "2   chapter           Circulatory  3.802426   456.0      1\n",
       "3   chapter            Congenital  4.020851     1.0      1\n",
       "4   chapter             Digestive  4.004915    38.0      1\n",
       "5   chapter             Endocrine  3.711327    28.0      1\n",
       "6   chapter       External Causes  3.570727    46.0      1\n",
       "7   chapter         Genitourinary  3.225902    28.0      1\n",
       "8   chapter           Ill Defined  2.907526    26.0      1\n",
       "9   chapter            Infectious  3.096485    20.0      1\n",
       "10  chapter  Injury and Poisoning  3.376318    12.0      1\n",
       "11  chapter                Mental  3.510636    99.0      1"
      ]
     },
     "execution_count": 92,
     "metadata": {},
     "output_type": "execute_result"
    }
   ],
   "source": [
    "model.get_shape_function(\"chapter\", eval_time=365*5, is_cat_col=True).iloc[:30]"
   ]
  },
  {
   "cell_type": "code",
   "execution_count": 93,
   "metadata": {},
   "outputs": [
    {
     "name": "stdout",
     "output_type": "stream",
     "text": [
      "FEAT BIN VALUE FOR MODEL 0 : ['NA', 'Blood', 'Circulatory', 'Congenital', 'Digestive', 'Endocrine', 'External Causes', 'Genitourinary', 'Ill Defined', 'Infectious', 'Injury and Poisoning', 'Mental', 'Musculoskeletal', 'Neoplasms', 'Nervous', 'Respiratory', 'Skin', 'Unknown']\n",
      "FEAT BIN VALUE FOR MODEL 1 : ['NA', 'Blood', 'Circulatory', 'Congenital', 'Digestive', 'Endocrine', 'External Causes', 'Genitourinary', 'Ill Defined', 'Infectious', 'Injury and Poisoning', 'Mental', 'Musculoskeletal', 'Neoplasms', 'Nervous', 'Respiratory', 'Skin', 'Unknown']\n",
      "FEAT BIN VALUE FOR MODEL 2 : ['NA', 'Blood', 'Circulatory', 'Congenital', 'Digestive', 'Endocrine', 'External Causes', 'Genitourinary', 'Ill Defined', 'Infectious', 'Injury and Poisoning', 'Mental', 'Musculoskeletal', 'Neoplasms', 'Nervous', 'Respiratory', 'Skin', 'Unknown']\n",
      "FEAT BIN VALUE FOR MODEL 3 : ['NA', 'Blood', 'Circulatory', 'Congenital', 'Digestive', 'Endocrine', 'External Causes', 'Genitourinary', 'Ill Defined', 'Infectious', 'Injury and Poisoning', 'Mental', 'Musculoskeletal', 'Neoplasms', 'Nervous', 'Respiratory', 'Skin', 'Unknown']\n",
      "FEAT BIN VALUE FOR MODEL 4 : ['NA', 'Blood', 'Circulatory', 'Congenital', 'Digestive', 'Endocrine', 'External Causes', 'Genitourinary', 'Ill Defined', 'Infectious', 'Injury and Poisoning', 'Mental', 'Musculoskeletal', 'Neoplasms', 'Nervous', 'Respiratory', 'Skin', 'Unknown']\n",
      "bin\n",
      "NA                      5\n",
      "Blood                   5\n",
      "Skin                    5\n",
      "Respiratory             5\n",
      "Nervous                 5\n",
      "Neoplasms               5\n",
      "Musculoskeletal         5\n",
      "Mental                  5\n",
      "Injury and Poisoning    5\n",
      "Infectious              5\n",
      "Ill Defined             5\n",
      "Genitourinary           5\n",
      "External Causes         5\n",
      "Endocrine               5\n",
      "Digestive               5\n",
      "Congenital              5\n",
      "Circulatory             5\n",
      "Unknown                 5\n",
      "Name: count, dtype: int64\n"
     ]
    },
    {
     "data": {
      "image/png": "[encoded data removed]",
      "text/plain": [
       "<Figure size 1200x400 with 3 Axes>"
      ]
     },
     "metadata": {},
     "output_type": "display_data"
    }
   ],
   "source": [
    "model.plot_shape_function([\"chapter\", \"lambda\", \"age\"], eval_time=365*5, is_cat_cols=[True, False, False])"
   ]
  }
 ],
 "metadata": {
  "kernelspec": {
   "display_name": "default",
   "language": "python",
   "name": "python3"
  },
  "language_info": {
   "codemirror_mode": {
    "name": "ipython",
    "version": 3
   },
   "file_extension": ".py",
   "mimetype": "text/x-python",
   "name": "python",
   "nbconvert_exporter": "python",
   "pygments_lexer": "ipython3",
   "version": "3.10.12"
  }
 },
 "nbformat": 4,
 "nbformat_minor": 2
}
